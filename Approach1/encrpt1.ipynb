{
  "nbformat": 4,
  "nbformat_minor": 0,
  "metadata": {
    "colab": {
      "provenance": []
    },
    "kernelspec": {
      "name": "python3",
      "display_name": "Python 3"
    },
    "language_info": {
      "name": "python"
    }
  },
  "cells": [
    {
      "cell_type": "code",
      "execution_count": 1,
      "metadata": {
        "id": "frcHBgzjIuCZ",
        "colab": {
          "base_uri": "https://localhost:8080/",
          "height": 0
        },
        "outputId": "d1d4dbfa-985a-4c74-f822-848e66e6b7ae"
      },
      "outputs": [
        {
          "output_type": "stream",
          "name": "stdout",
          "text": [
            "Collecting tenseal\n",
            "  Downloading tenseal-0.3.16-cp311-cp311-manylinux_2_27_x86_64.manylinux_2_28_x86_64.whl.metadata (8.4 kB)\n",
            "Downloading tenseal-0.3.16-cp311-cp311-manylinux_2_27_x86_64.manylinux_2_28_x86_64.whl (4.8 MB)\n",
            "\u001b[?25l   \u001b[90m━━━━━━━━━━━━━━━━━━━━━━━━━━━━━━━━━━━━━━━━\u001b[0m \u001b[32m0.0/4.8 MB\u001b[0m \u001b[31m?\u001b[0m eta \u001b[36m-:--:--\u001b[0m\r\u001b[2K   \u001b[91m━━━━━\u001b[0m\u001b[90m╺\u001b[0m\u001b[90m━━━━━━━━━━━━━━━━━━━━━━━━━━━━━━━━━━\u001b[0m \u001b[32m0.6/4.8 MB\u001b[0m \u001b[31m18.9 MB/s\u001b[0m eta \u001b[36m0:00:01\u001b[0m\r\u001b[2K   \u001b[91m━━━━━━━━━━━━━━━━━━━━━━━━━━━━━━━━━━━━━━━\u001b[0m\u001b[91m╸\u001b[0m \u001b[32m4.8/4.8 MB\u001b[0m \u001b[31m77.6 MB/s\u001b[0m eta \u001b[36m0:00:01\u001b[0m\r\u001b[2K   \u001b[90m━━━━━━━━━━━━━━━━━━━━━━━━━━━━━━━━━━━━━━━━\u001b[0m \u001b[32m4.8/4.8 MB\u001b[0m \u001b[31m54.1 MB/s\u001b[0m eta \u001b[36m0:00:00\u001b[0m\n",
            "\u001b[?25hInstalling collected packages: tenseal\n",
            "Successfully installed tenseal-0.3.16\n"
          ]
        }
      ],
      "source": [
        "!pip install tenseal\n"
      ]
    },
    {
      "cell_type": "code",
      "source": [
        "\n",
        "from google.colab import files\n",
        "import json\n",
        "import numpy as np\n",
        "\n",
        "# Upload the JSON file manually\n",
        "uploaded = files.upload()  # Choose your MMU (1).json file when prompted\n",
        "filename = list(uploaded.keys())[0]  # Get the actual filename\n",
        "\n",
        "# Load the JSON data\n",
        "with open(filename, \"r\") as f:\n",
        "    data = json.load(f)\n",
        "\n",
        "# Check data structure\n",
        "print(\"Sample user IDs:\", list(data.keys())[:3])\n",
        "print(\"Sample feature shape:\", np.array(data['1']['features']).shape)\n"
      ],
      "metadata": {
        "colab": {
          "base_uri": "https://localhost:8080/",
          "height": 107
        },
        "id": "VKVkRtQhR3eP",
        "outputId": "b5f2aeeb-c2c7-4257-d431-1928a9d25d25"
      },
      "execution_count": 3,
      "outputs": [
        {
          "output_type": "display_data",
          "data": {
            "text/plain": [
              "<IPython.core.display.HTML object>"
            ],
            "text/html": [
              "\n",
              "     <input type=\"file\" id=\"files-001880de-5830-4491-bc64-e351bb0e7632\" name=\"files[]\" multiple disabled\n",
              "        style=\"border:none\" />\n",
              "     <output id=\"result-001880de-5830-4491-bc64-e351bb0e7632\">\n",
              "      Upload widget is only available when the cell has been executed in the\n",
              "      current browser session. Please rerun this cell to enable.\n",
              "      </output>\n",
              "      <script>// Copyright 2017 Google LLC\n",
              "//\n",
              "// Licensed under the Apache License, Version 2.0 (the \"License\");\n",
              "// you may not use this file except in compliance with the License.\n",
              "// You may obtain a copy of the License at\n",
              "//\n",
              "//      http://www.apache.org/licenses/LICENSE-2.0\n",
              "//\n",
              "// Unless required by applicable law or agreed to in writing, software\n",
              "// distributed under the License is distributed on an \"AS IS\" BASIS,\n",
              "// WITHOUT WARRANTIES OR CONDITIONS OF ANY KIND, either express or implied.\n",
              "// See the License for the specific language governing permissions and\n",
              "// limitations under the License.\n",
              "\n",
              "/**\n",
              " * @fileoverview Helpers for google.colab Python module.\n",
              " */\n",
              "(function(scope) {\n",
              "function span(text, styleAttributes = {}) {\n",
              "  const element = document.createElement('span');\n",
              "  element.textContent = text;\n",
              "  for (const key of Object.keys(styleAttributes)) {\n",
              "    element.style[key] = styleAttributes[key];\n",
              "  }\n",
              "  return element;\n",
              "}\n",
              "\n",
              "// Max number of bytes which will be uploaded at a time.\n",
              "const MAX_PAYLOAD_SIZE = 100 * 1024;\n",
              "\n",
              "function _uploadFiles(inputId, outputId) {\n",
              "  const steps = uploadFilesStep(inputId, outputId);\n",
              "  const outputElement = document.getElementById(outputId);\n",
              "  // Cache steps on the outputElement to make it available for the next call\n",
              "  // to uploadFilesContinue from Python.\n",
              "  outputElement.steps = steps;\n",
              "\n",
              "  return _uploadFilesContinue(outputId);\n",
              "}\n",
              "\n",
              "// This is roughly an async generator (not supported in the browser yet),\n",
              "// where there are multiple asynchronous steps and the Python side is going\n",
              "// to poll for completion of each step.\n",
              "// This uses a Promise to block the python side on completion of each step,\n",
              "// then passes the result of the previous step as the input to the next step.\n",
              "function _uploadFilesContinue(outputId) {\n",
              "  const outputElement = document.getElementById(outputId);\n",
              "  const steps = outputElement.steps;\n",
              "\n",
              "  const next = steps.next(outputElement.lastPromiseValue);\n",
              "  return Promise.resolve(next.value.promise).then((value) => {\n",
              "    // Cache the last promise value to make it available to the next\n",
              "    // step of the generator.\n",
              "    outputElement.lastPromiseValue = value;\n",
              "    return next.value.response;\n",
              "  });\n",
              "}\n",
              "\n",
              "/**\n",
              " * Generator function which is called between each async step of the upload\n",
              " * process.\n",
              " * @param {string} inputId Element ID of the input file picker element.\n",
              " * @param {string} outputId Element ID of the output display.\n",
              " * @return {!Iterable<!Object>} Iterable of next steps.\n",
              " */\n",
              "function* uploadFilesStep(inputId, outputId) {\n",
              "  const inputElement = document.getElementById(inputId);\n",
              "  inputElement.disabled = false;\n",
              "\n",
              "  const outputElement = document.getElementById(outputId);\n",
              "  outputElement.innerHTML = '';\n",
              "\n",
              "  const pickedPromise = new Promise((resolve) => {\n",
              "    inputElement.addEventListener('change', (e) => {\n",
              "      resolve(e.target.files);\n",
              "    });\n",
              "  });\n",
              "\n",
              "  const cancel = document.createElement('button');\n",
              "  inputElement.parentElement.appendChild(cancel);\n",
              "  cancel.textContent = 'Cancel upload';\n",
              "  const cancelPromise = new Promise((resolve) => {\n",
              "    cancel.onclick = () => {\n",
              "      resolve(null);\n",
              "    };\n",
              "  });\n",
              "\n",
              "  // Wait for the user to pick the files.\n",
              "  const files = yield {\n",
              "    promise: Promise.race([pickedPromise, cancelPromise]),\n",
              "    response: {\n",
              "      action: 'starting',\n",
              "    }\n",
              "  };\n",
              "\n",
              "  cancel.remove();\n",
              "\n",
              "  // Disable the input element since further picks are not allowed.\n",
              "  inputElement.disabled = true;\n",
              "\n",
              "  if (!files) {\n",
              "    return {\n",
              "      response: {\n",
              "        action: 'complete',\n",
              "      }\n",
              "    };\n",
              "  }\n",
              "\n",
              "  for (const file of files) {\n",
              "    const li = document.createElement('li');\n",
              "    li.append(span(file.name, {fontWeight: 'bold'}));\n",
              "    li.append(span(\n",
              "        `(${file.type || 'n/a'}) - ${file.size} bytes, ` +\n",
              "        `last modified: ${\n",
              "            file.lastModifiedDate ? file.lastModifiedDate.toLocaleDateString() :\n",
              "                                    'n/a'} - `));\n",
              "    const percent = span('0% done');\n",
              "    li.appendChild(percent);\n",
              "\n",
              "    outputElement.appendChild(li);\n",
              "\n",
              "    const fileDataPromise = new Promise((resolve) => {\n",
              "      const reader = new FileReader();\n",
              "      reader.onload = (e) => {\n",
              "        resolve(e.target.result);\n",
              "      };\n",
              "      reader.readAsArrayBuffer(file);\n",
              "    });\n",
              "    // Wait for the data to be ready.\n",
              "    let fileData = yield {\n",
              "      promise: fileDataPromise,\n",
              "      response: {\n",
              "        action: 'continue',\n",
              "      }\n",
              "    };\n",
              "\n",
              "    // Use a chunked sending to avoid message size limits. See b/62115660.\n",
              "    let position = 0;\n",
              "    do {\n",
              "      const length = Math.min(fileData.byteLength - position, MAX_PAYLOAD_SIZE);\n",
              "      const chunk = new Uint8Array(fileData, position, length);\n",
              "      position += length;\n",
              "\n",
              "      const base64 = btoa(String.fromCharCode.apply(null, chunk));\n",
              "      yield {\n",
              "        response: {\n",
              "          action: 'append',\n",
              "          file: file.name,\n",
              "          data: base64,\n",
              "        },\n",
              "      };\n",
              "\n",
              "      let percentDone = fileData.byteLength === 0 ?\n",
              "          100 :\n",
              "          Math.round((position / fileData.byteLength) * 100);\n",
              "      percent.textContent = `${percentDone}% done`;\n",
              "\n",
              "    } while (position < fileData.byteLength);\n",
              "  }\n",
              "\n",
              "  // All done.\n",
              "  yield {\n",
              "    response: {\n",
              "      action: 'complete',\n",
              "    }\n",
              "  };\n",
              "}\n",
              "\n",
              "scope.google = scope.google || {};\n",
              "scope.google.colab = scope.google.colab || {};\n",
              "scope.google.colab._files = {\n",
              "  _uploadFiles,\n",
              "  _uploadFilesContinue,\n",
              "};\n",
              "})(self);\n",
              "</script> "
            ]
          },
          "metadata": {}
        },
        {
          "output_type": "stream",
          "name": "stdout",
          "text": [
            "Saving MMU (1).json to MMU (1) (1).json\n",
            "Sample user IDs: ['1', '2', '3']\n",
            "Sample feature shape: (10, 5)\n"
          ]
        }
      ]
    },
    {
      "cell_type": "code",
      "source": [
        "import tenseal as ts\n",
        "\n",
        "def create_ckks_context():\n",
        "    context = ts.context(\n",
        "        ts.SCHEME_TYPE.CKKS,\n",
        "        poly_modulus_degree=8192,\n",
        "        coeff_mod_bit_sizes=[60, 40, 40, 60]  # 128-bit security\n",
        "    )\n",
        "    context.generate_galois_keys()\n",
        "    context.global_scale = 2 ** 40\n",
        "    return context\n",
        "\n",
        "# Create encryption context\n",
        "context = create_ckks_context()\n",
        "public_context = context.copy()\n",
        "public_context.make_context_public()  # public copy for encryption only\n"
      ],
      "metadata": {
        "id": "34jb01m3TBOw"
      },
      "execution_count": 4,
      "outputs": []
    },
    {
      "cell_type": "code",
      "source": [
        "# Encrypt all feature vectors and store them\n",
        "encrypted_database = {}\n",
        "\n",
        "for user_id, user_data in data.items():\n",
        "    encrypted_features = []\n",
        "    for vec in user_data[\"features\"]:\n",
        "        enc_vec = ts.ckks_vector(public_context, vec)\n",
        "        encrypted_features.append(enc_vec.serialize())  # serialize to store\n",
        "    encrypted_database[user_id] = encrypted_features\n"
      ],
      "metadata": {
        "id": "rL_2r1YaTC6-"
      },
      "execution_count": 5,
      "outputs": []
    },
    {
      "cell_type": "code",
      "source": [
        "def cosine_similarity_encrypted(v1, v2, context):\n",
        "    # Numerator: Encrypted dot product\n",
        "    dot_product = v1.dot(v2)\n",
        "\n",
        "    # Norms (plaintext)\n",
        "    norm_v1 = np.sqrt(v1.dot(v1).decrypt()[0])\n",
        "    norm_v2 = np.sqrt(v2.dot(v2).decrypt()[0])\n",
        "\n",
        "    # Denominator (plaintext)\n",
        "    denom = norm_v1 * norm_v2\n",
        "\n",
        "    if denom == 0:\n",
        "        return ts.ckks_vector(context, [0.0])  # prevent division by zero\n",
        "\n",
        "    # Workaround: multiply with inverse\n",
        "    inverse_denom = 1.0 / denom\n",
        "    return dot_product * inverse_denom  # Element-wise encrypted * float\n"
      ],
      "metadata": {
        "id": "R8IWVrPITGwe"
      },
      "execution_count": 15,
      "outputs": []
    },
    {
      "cell_type": "code",
      "source": [
        "query_vec = data[\"1\"][\"features\"][0]\n",
        "enc_query = ts.ckks_vector(context, query_vec)\n",
        "\n",
        "scores = []\n",
        "\n",
        "for user_id, encrypted_feature_list in encrypted_database.items():\n",
        "    for enc_feat_serialized in encrypted_feature_list:\n",
        "        try:\n",
        "            enc_feat = ts.ckks_vector_from(context, enc_feat_serialized)\n",
        "            sim = cosine_similarity_encrypted(enc_query, enc_feat, context)\n",
        "            score = sim.decrypt()[0]\n",
        "            scores.append((user_id, score))\n",
        "        except Exception as e:\n",
        "            print(f\"Error comparing with User {user_id}: {e}\")\n"
      ],
      "metadata": {
        "id": "e0P_ApImVjiY"
      },
      "execution_count": 21,
      "outputs": []
    },
    {
      "cell_type": "code",
      "source": [
        "# Sort and display top matches\n",
        "scores = sorted(scores, key=lambda x: x[1], reverse=True)\n",
        "\n",
        "print(\"🔝 Top 5 Matches:\")\n",
        "for uid, sim in scores[:5]:\n",
        "    print(f\"User {uid} → Similarity: {sim:.4f}\")\n",
        "\n",
        "# Apply threshold\n",
        "threshold = 0.95\n",
        "best_match = scores[0]\n",
        "if best_match[1] >= threshold:\n",
        "    print(f\"\\n✅ Authenticated as User {best_match[0]} with similarity {best_match[1]:.4f}\")\n",
        "else:\n",
        "    print(f\"\\n❌ Authentication failed. Best match is User {best_match[0]} with similarity {best_match[1]:.4f}\")\n"
      ],
      "metadata": {
        "colab": {
          "base_uri": "https://localhost:8080/",
          "height": 0
        },
        "id": "bhjvQgI5V51v",
        "outputId": "5a9757f3-2859-40ef-f13e-a87913143da6"
      },
      "execution_count": 18,
      "outputs": [
        {
          "output_type": "stream",
          "name": "stdout",
          "text": [
            "🔝 Top 5 Matches:\n",
            "User 1 → Similarity: 1.0000\n",
            "User 42 → Similarity: 0.9941\n",
            "User 6 → Similarity: 0.9860\n",
            "User 11 → Similarity: 0.9856\n",
            "User 27 → Similarity: 0.9855\n",
            "\n",
            "✅ Authenticated as User 1 with similarity 1.0000\n"
          ]
        }
      ]
    },
    {
      "cell_type": "code",
      "source": [
        "scores = sorted(scores, key=lambda x: x[1], reverse=True)\n",
        "for user, score in scores[:10]:  # Top 10 matches\n",
        "    print(f\"User {user} - Similarity Score: {score:.4f}\")\n"
      ],
      "metadata": {
        "colab": {
          "base_uri": "https://localhost:8080/",
          "height": 0
        },
        "id": "REUEwV8xVyfP",
        "outputId": "1edd71b5-10c2-4a3d-faa0-614fbf190f8f"
      },
      "execution_count": 17,
      "outputs": [
        {
          "output_type": "stream",
          "name": "stdout",
          "text": [
            "User 1 - Similarity Score: 1.0000\n",
            "User 42 - Similarity Score: 0.9941\n",
            "User 6 - Similarity Score: 0.9860\n",
            "User 11 - Similarity Score: 0.9856\n",
            "User 27 - Similarity Score: 0.9855\n",
            "User 39 - Similarity Score: 0.9841\n",
            "User 34 - Similarity Score: 0.9836\n",
            "User 20 - Similarity Score: 0.9819\n",
            "User 5 - Similarity Score: 0.9795\n",
            "User 42 - Similarity Score: 0.9785\n"
          ]
        }
      ]
    },
    {
      "cell_type": "code",
      "source": [],
      "metadata": {
        "id": "nV8WjRGAV0z2"
      },
      "execution_count": null,
      "outputs": []
    },
    {
      "cell_type": "code",
      "source": [
        "import numpy as np\n",
        "\n",
        "# Get length of feature vector (from user \"1\")\n",
        "N = len(data[\"1\"][\"features\"][0])\n",
        "print(f\"Feature vector length: {N}\")\n"
      ],
      "metadata": {
        "colab": {
          "base_uri": "https://localhost:8080/",
          "height": 0
        },
        "id": "yJAPilBSYdQY",
        "outputId": "83431e7d-797b-42bc-b057-d50e2713dfff"
      },
      "execution_count": 22,
      "outputs": [
        {
          "output_type": "stream",
          "name": "stdout",
          "text": [
            "Feature vector length: 5\n"
          ]
        }
      ]
    },
    {
      "cell_type": "code",
      "source": [
        "# Generate a fake iris feature vector of the same length\n",
        "fake_vec = np.random.rand(N).tolist()\n"
      ],
      "metadata": {
        "id": "BSpwaFyRYp2w"
      },
      "execution_count": 23,
      "outputs": []
    },
    {
      "cell_type": "code",
      "source": [
        "# Encrypt the fake vector using the same CKKS context\n",
        "enc_fake_query = ts.ckks_vector(context, fake_vec)\n"
      ],
      "metadata": {
        "id": "n2nSN5_XYsYw"
      },
      "execution_count": 24,
      "outputs": []
    },
    {
      "cell_type": "code",
      "source": [
        "scores = []\n",
        "\n",
        "for user_id, enc_feat_list in encrypted_database.items():\n",
        "    for enc_feat_serialized in enc_feat_list:\n",
        "        enc_feat = ts.ckks_vector_from(context, enc_feat_serialized)\n",
        "\n",
        "        try:\n",
        "            # Cosine similarity using workaround without scalar_div\n",
        "            dot = enc_fake_query.dot(enc_feat)\n",
        "            norm_fake = np.sqrt(enc_fake_query.dot(enc_fake_query).decrypt()[0])\n",
        "            norm_db    = np.sqrt(enc_feat.dot(enc_feat).decrypt()[0])\n",
        "            if norm_fake == 0 or norm_db == 0:\n",
        "                similarity = 0.0\n",
        "            else:\n",
        "                similarity = dot * (1.0 / (norm_fake * norm_db))  # CKKSVector * float\n",
        "            score = similarity.decrypt()[0]\n",
        "            scores.append((user_id, score))\n",
        "        except Exception as e:\n",
        "            print(f\"Error comparing with User {user_id}: {e}\")\n"
      ],
      "metadata": {
        "id": "Bs89127vYvWR"
      },
      "execution_count": 25,
      "outputs": []
    },
    {
      "cell_type": "code",
      "source": [
        "scores = sorted(scores, key=lambda x: x[1], reverse=True)\n",
        "\n",
        "print(\"🔍 Top 5 Matches for Fake Iris:\")\n",
        "for uid, sim in scores[:5]:\n",
        "    print(f\"User {uid} → Similarity: {sim:.4f}\")\n"
      ],
      "metadata": {
        "colab": {
          "base_uri": "https://localhost:8080/",
          "height": 0
        },
        "id": "xhSqpCADY4ZP",
        "outputId": "65cbd0cf-020a-43f2-fb6c-882a79dbde3b"
      },
      "execution_count": 26,
      "outputs": [
        {
          "output_type": "stream",
          "name": "stdout",
          "text": [
            "🔍 Top 5 Matches for Fake Iris:\n",
            "User 44 → Similarity: 0.8396\n",
            "User 29 → Similarity: 0.7547\n",
            "User 29 → Similarity: 0.7448\n",
            "User 1 → Similarity: 0.7049\n",
            "User 43 → Similarity: 0.6667\n"
          ]
        }
      ]
    },
    {
      "cell_type": "code",
      "source": [
        "threshold = 0.90\n",
        "best_match = scores[0]\n",
        "\n",
        "if best_match[1] >= threshold:\n",
        "    print(f\"\\n❌ FAKE iris accepted (this should not happen). Matched User {best_match[0]} with {best_match[1]:.4f}\")\n",
        "else:\n",
        "    print(f\"\\n✅ FAKE iris correctly rejected. Highest similarity: {best_match[1]:.4f}\")\n"
      ],
      "metadata": {
        "colab": {
          "base_uri": "https://localhost:8080/"
        },
        "id": "xIdJzO4mY70Y",
        "outputId": "2d1290bc-b4e7-4e1a-ddb7-c4f49cdaf998"
      },
      "execution_count": 32,
      "outputs": [
        {
          "output_type": "stream",
          "name": "stdout",
          "text": [
            "\n",
            "✅ FAKE iris correctly rejected. Highest similarity: 0.8396\n"
          ]
        }
      ]
    }
  ]
}
