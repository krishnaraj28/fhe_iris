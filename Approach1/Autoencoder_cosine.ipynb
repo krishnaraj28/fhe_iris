{
  "nbformat": 4,
  "nbformat_minor": 0,
  "metadata": {
    "colab": {
      "provenance": []
    },
    "kernelspec": {
      "name": "python3",
      "display_name": "Python 3"
    },
    "language_info": {
      "name": "python"
    }
  },
  "cells": [
    {
      "cell_type": "code",
      "execution_count": 2,
      "metadata": {
        "colab": {
          "base_uri": "https://localhost:8080/"
        },
        "id": "O6Va-7lW1IyB",
        "outputId": "568fe2ea-43a8-4e98-e72b-1d362ad5eeba"
      },
      "outputs": [
        {
          "output_type": "stream",
          "name": "stdout",
          "text": [
            "Collecting tenseal\n",
            "  Downloading tenseal-0.3.16-cp312-cp312-manylinux_2_27_x86_64.manylinux_2_28_x86_64.whl.metadata (8.4 kB)\n",
            "Requirement already satisfied: scikit-learn in /usr/local/lib/python3.12/dist-packages (1.6.1)\n",
            "Requirement already satisfied: numpy>=1.19.5 in /usr/local/lib/python3.12/dist-packages (from scikit-learn) (2.0.2)\n",
            "Requirement already satisfied: scipy>=1.6.0 in /usr/local/lib/python3.12/dist-packages (from scikit-learn) (1.16.1)\n",
            "Requirement already satisfied: joblib>=1.2.0 in /usr/local/lib/python3.12/dist-packages (from scikit-learn) (1.5.2)\n",
            "Requirement already satisfied: threadpoolctl>=3.1.0 in /usr/local/lib/python3.12/dist-packages (from scikit-learn) (3.6.0)\n",
            "Downloading tenseal-0.3.16-cp312-cp312-manylinux_2_27_x86_64.manylinux_2_28_x86_64.whl (4.8 MB)\n",
            "\u001b[2K   \u001b[90m━━━━━━━━━━━━━━━━━━━━━━━━━━━━━━━━━━━━━━━━\u001b[0m \u001b[32m4.8/4.8 MB\u001b[0m \u001b[31m32.1 MB/s\u001b[0m eta \u001b[36m0:00:00\u001b[0m\n",
            "\u001b[?25hInstalling collected packages: tenseal\n",
            "Successfully installed tenseal-0.3.16\n"
          ]
        }
      ],
      "source": [
        "!pip install tenseal scikit-learn\n"
      ]
    },
    {
      "cell_type": "code",
      "source": [
        "import numpy as np\n",
        "import json\n",
        "from google.colab import files\n",
        "from sklearn.preprocessing import StandardScaler\n",
        "from sklearn.model_selection import train_test_split\n",
        "import tensorflow as tf\n",
        "from tensorflow import keras\n",
        "from tensorflow.keras import layers\n",
        "import tenseal as ts\n",
        "import matplotlib.pyplot as plt\n"
      ],
      "metadata": {
        "id": "_gDrnSly1hDS"
      },
      "execution_count": 3,
      "outputs": []
    },
    {
      "cell_type": "code",
      "source": [
        "# Upload and load the data\n",
        "uploaded = files.upload()\n",
        "filename = list(uploaded.keys())[0]\n",
        "\n",
        "with open(filename, \"r\") as f:\n",
        "    data = json.load(f)\n"
      ],
      "metadata": {
        "colab": {
          "base_uri": "https://localhost:8080/",
          "height": 73
        },
        "id": "mlXSxZBV12cw",
        "outputId": "a27c73e5-b635-4e19-f7df-c77934391eb9"
      },
      "execution_count": 4,
      "outputs": [
        {
          "output_type": "display_data",
          "data": {
            "text/plain": [
              "<IPython.core.display.HTML object>"
            ],
            "text/html": [
              "\n",
              "     <input type=\"file\" id=\"files-0d3e7dc1-9f52-44d7-bb87-8c4ee49312f8\" name=\"files[]\" multiple disabled\n",
              "        style=\"border:none\" />\n",
              "     <output id=\"result-0d3e7dc1-9f52-44d7-bb87-8c4ee49312f8\">\n",
              "      Upload widget is only available when the cell has been executed in the\n",
              "      current browser session. Please rerun this cell to enable.\n",
              "      </output>\n",
              "      <script>// Copyright 2017 Google LLC\n",
              "//\n",
              "// Licensed under the Apache License, Version 2.0 (the \"License\");\n",
              "// you may not use this file except in compliance with the License.\n",
              "// You may obtain a copy of the License at\n",
              "//\n",
              "//      http://www.apache.org/licenses/LICENSE-2.0\n",
              "//\n",
              "// Unless required by applicable law or agreed to in writing, software\n",
              "// distributed under the License is distributed on an \"AS IS\" BASIS,\n",
              "// WITHOUT WARRANTIES OR CONDITIONS OF ANY KIND, either express or implied.\n",
              "// See the License for the specific language governing permissions and\n",
              "// limitations under the License.\n",
              "\n",
              "/**\n",
              " * @fileoverview Helpers for google.colab Python module.\n",
              " */\n",
              "(function(scope) {\n",
              "function span(text, styleAttributes = {}) {\n",
              "  const element = document.createElement('span');\n",
              "  element.textContent = text;\n",
              "  for (const key of Object.keys(styleAttributes)) {\n",
              "    element.style[key] = styleAttributes[key];\n",
              "  }\n",
              "  return element;\n",
              "}\n",
              "\n",
              "// Max number of bytes which will be uploaded at a time.\n",
              "const MAX_PAYLOAD_SIZE = 100 * 1024;\n",
              "\n",
              "function _uploadFiles(inputId, outputId) {\n",
              "  const steps = uploadFilesStep(inputId, outputId);\n",
              "  const outputElement = document.getElementById(outputId);\n",
              "  // Cache steps on the outputElement to make it available for the next call\n",
              "  // to uploadFilesContinue from Python.\n",
              "  outputElement.steps = steps;\n",
              "\n",
              "  return _uploadFilesContinue(outputId);\n",
              "}\n",
              "\n",
              "// This is roughly an async generator (not supported in the browser yet),\n",
              "// where there are multiple asynchronous steps and the Python side is going\n",
              "// to poll for completion of each step.\n",
              "// This uses a Promise to block the python side on completion of each step,\n",
              "// then passes the result of the previous step as the input to the next step.\n",
              "function _uploadFilesContinue(outputId) {\n",
              "  const outputElement = document.getElementById(outputId);\n",
              "  const steps = outputElement.steps;\n",
              "\n",
              "  const next = steps.next(outputElement.lastPromiseValue);\n",
              "  return Promise.resolve(next.value.promise).then((value) => {\n",
              "    // Cache the last promise value to make it available to the next\n",
              "    // step of the generator.\n",
              "    outputElement.lastPromiseValue = value;\n",
              "    return next.value.response;\n",
              "  });\n",
              "}\n",
              "\n",
              "/**\n",
              " * Generator function which is called between each async step of the upload\n",
              " * process.\n",
              " * @param {string} inputId Element ID of the input file picker element.\n",
              " * @param {string} outputId Element ID of the output display.\n",
              " * @return {!Iterable<!Object>} Iterable of next steps.\n",
              " */\n",
              "function* uploadFilesStep(inputId, outputId) {\n",
              "  const inputElement = document.getElementById(inputId);\n",
              "  inputElement.disabled = false;\n",
              "\n",
              "  const outputElement = document.getElementById(outputId);\n",
              "  outputElement.innerHTML = '';\n",
              "\n",
              "  const pickedPromise = new Promise((resolve) => {\n",
              "    inputElement.addEventListener('change', (e) => {\n",
              "      resolve(e.target.files);\n",
              "    });\n",
              "  });\n",
              "\n",
              "  const cancel = document.createElement('button');\n",
              "  inputElement.parentElement.appendChild(cancel);\n",
              "  cancel.textContent = 'Cancel upload';\n",
              "  const cancelPromise = new Promise((resolve) => {\n",
              "    cancel.onclick = () => {\n",
              "      resolve(null);\n",
              "    };\n",
              "  });\n",
              "\n",
              "  // Wait for the user to pick the files.\n",
              "  const files = yield {\n",
              "    promise: Promise.race([pickedPromise, cancelPromise]),\n",
              "    response: {\n",
              "      action: 'starting',\n",
              "    }\n",
              "  };\n",
              "\n",
              "  cancel.remove();\n",
              "\n",
              "  // Disable the input element since further picks are not allowed.\n",
              "  inputElement.disabled = true;\n",
              "\n",
              "  if (!files) {\n",
              "    return {\n",
              "      response: {\n",
              "        action: 'complete',\n",
              "      }\n",
              "    };\n",
              "  }\n",
              "\n",
              "  for (const file of files) {\n",
              "    const li = document.createElement('li');\n",
              "    li.append(span(file.name, {fontWeight: 'bold'}));\n",
              "    li.append(span(\n",
              "        `(${file.type || 'n/a'}) - ${file.size} bytes, ` +\n",
              "        `last modified: ${\n",
              "            file.lastModifiedDate ? file.lastModifiedDate.toLocaleDateString() :\n",
              "                                    'n/a'} - `));\n",
              "    const percent = span('0% done');\n",
              "    li.appendChild(percent);\n",
              "\n",
              "    outputElement.appendChild(li);\n",
              "\n",
              "    const fileDataPromise = new Promise((resolve) => {\n",
              "      const reader = new FileReader();\n",
              "      reader.onload = (e) => {\n",
              "        resolve(e.target.result);\n",
              "      };\n",
              "      reader.readAsArrayBuffer(file);\n",
              "    });\n",
              "    // Wait for the data to be ready.\n",
              "    let fileData = yield {\n",
              "      promise: fileDataPromise,\n",
              "      response: {\n",
              "        action: 'continue',\n",
              "      }\n",
              "    };\n",
              "\n",
              "    // Use a chunked sending to avoid message size limits. See b/62115660.\n",
              "    let position = 0;\n",
              "    do {\n",
              "      const length = Math.min(fileData.byteLength - position, MAX_PAYLOAD_SIZE);\n",
              "      const chunk = new Uint8Array(fileData, position, length);\n",
              "      position += length;\n",
              "\n",
              "      const base64 = btoa(String.fromCharCode.apply(null, chunk));\n",
              "      yield {\n",
              "        response: {\n",
              "          action: 'append',\n",
              "          file: file.name,\n",
              "          data: base64,\n",
              "        },\n",
              "      };\n",
              "\n",
              "      let percentDone = fileData.byteLength === 0 ?\n",
              "          100 :\n",
              "          Math.round((position / fileData.byteLength) * 100);\n",
              "      percent.textContent = `${percentDone}% done`;\n",
              "\n",
              "    } while (position < fileData.byteLength);\n",
              "  }\n",
              "\n",
              "  // All done.\n",
              "  yield {\n",
              "    response: {\n",
              "      action: 'complete',\n",
              "    }\n",
              "  };\n",
              "}\n",
              "\n",
              "scope.google = scope.google || {};\n",
              "scope.google.colab = scope.google.colab || {};\n",
              "scope.google.colab._files = {\n",
              "  _uploadFiles,\n",
              "  _uploadFilesContinue,\n",
              "};\n",
              "})(self);\n",
              "</script> "
            ]
          },
          "metadata": {}
        },
        {
          "output_type": "stream",
          "name": "stdout",
          "text": [
            "Saving MMU (1).json to MMU (1).json\n"
          ]
        }
      ]
    },
    {
      "cell_type": "code",
      "source": [
        "# Extract all feature vectors\n",
        "all_features = []\n",
        "user_ids = []\n",
        "for user_id, user_data in data.items():\n",
        "    for feature_vec in user_data[\"features\"]:\n",
        "        all_features.append(feature_vec)\n",
        "        user_ids.append(user_id)\n",
        "\n",
        "all_features = np.array(all_features)\n",
        "print(f\"Total feature vectors: {all_features.shape}\")\n",
        "\n",
        "# Standardize the data\n",
        "scaler = StandardScaler()\n",
        "scaled_features = scaler.fit_transform(all_features)\n"
      ],
      "metadata": {
        "colab": {
          "base_uri": "https://localhost:8080/"
        },
        "id": "gL7cSSqj2Aqa",
        "outputId": "802eccc0-699a-4c98-c7e5-074958c0e24f"
      },
      "execution_count": 5,
      "outputs": [
        {
          "output_type": "stream",
          "name": "stdout",
          "text": [
            "Total feature vectors: (430, 5)\n"
          ]
        }
      ]
    },
    {
      "cell_type": "code",
      "source": [
        "# Split data into train and test\n",
        "X_train, X_test = train_test_split(scaled_features, test_size=0.2, random_state=42)\n",
        "\n",
        "# Autoencoder architecture\n",
        "input_dim = X_train.shape[1]  # 5 dimensions\n",
        "encoding_dim = 3  # Compress to 3 dimensions\n"
      ],
      "metadata": {
        "id": "6-syjrWH2Fl2"
      },
      "execution_count": 6,
      "outputs": []
    },
    {
      "cell_type": "code",
      "source": [
        "# Build the autoencoder\n",
        "input_layer = layers.Input(shape=(input_dim,))\n",
        "encoder = layers.Dense(encoding_dim * 2, activation='relu')(input_layer)\n",
        "encoder = layers.Dense(encoding_dim, activation='relu')(encoder)\n",
        "\n",
        "decoder = layers.Dense(encoding_dim * 2, activation='relu')(encoder)\n",
        "decoder = layers.Dense(input_dim, activation='linear')(decoder)\n",
        "\n",
        "autoencoder = keras.Model(inputs=input_layer, outputs=decoder)\n",
        "autoencoder.compile(optimizer='adam', loss='mse')\n"
      ],
      "metadata": {
        "id": "GP0rkeF02H-q"
      },
      "execution_count": 7,
      "outputs": []
    },
    {
      "cell_type": "code",
      "source": [
        "# Train the autoencoder\n",
        "history = autoencoder.fit(\n",
        "    X_train, X_train,\n",
        "    epochs=100,\n",
        "    batch_size=16,\n",
        "    shuffle=True,\n",
        "    validation_data=(X_test, X_test),\n",
        "    verbose=1\n",
        ")\n"
      ],
      "metadata": {
        "colab": {
          "base_uri": "https://localhost:8080/"
        },
        "id": "qbk-g1sV2NUD",
        "outputId": "41498708-8e76-4a54-d3db-ee23dc7fdd56"
      },
      "execution_count": 8,
      "outputs": [
        {
          "output_type": "stream",
          "name": "stdout",
          "text": [
            "Epoch 1/100\n",
            "\u001b[1m22/22\u001b[0m \u001b[32m━━━━━━━━━━━━━━━━━━━━\u001b[0m\u001b[37m\u001b[0m \u001b[1m2s\u001b[0m 12ms/step - loss: 1.0496 - val_loss: 0.9761\n",
            "Epoch 2/100\n",
            "\u001b[1m22/22\u001b[0m \u001b[32m━━━━━━━━━━━━━━━━━━━━\u001b[0m\u001b[37m\u001b[0m \u001b[1m0s\u001b[0m 5ms/step - loss: 0.9716 - val_loss: 0.9501\n",
            "Epoch 3/100\n",
            "\u001b[1m22/22\u001b[0m \u001b[32m━━━━━━━━━━━━━━━━━━━━\u001b[0m\u001b[37m\u001b[0m \u001b[1m0s\u001b[0m 5ms/step - loss: 0.9891 - val_loss: 0.9292\n",
            "Epoch 4/100\n",
            "\u001b[1m22/22\u001b[0m \u001b[32m━━━━━━━━━━━━━━━━━━━━\u001b[0m\u001b[37m\u001b[0m \u001b[1m0s\u001b[0m 5ms/step - loss: 0.9605 - val_loss: 0.9074\n",
            "Epoch 5/100\n",
            "\u001b[1m22/22\u001b[0m \u001b[32m━━━━━━━━━━━━━━━━━━━━\u001b[0m\u001b[37m\u001b[0m \u001b[1m0s\u001b[0m 7ms/step - loss: 1.0926 - val_loss: 0.8845\n",
            "Epoch 6/100\n",
            "\u001b[1m22/22\u001b[0m \u001b[32m━━━━━━━━━━━━━━━━━━━━\u001b[0m\u001b[37m\u001b[0m \u001b[1m0s\u001b[0m 6ms/step - loss: 0.8750 - val_loss: 0.8579\n",
            "Epoch 7/100\n",
            "\u001b[1m22/22\u001b[0m \u001b[32m━━━━━━━━━━━━━━━━━━━━\u001b[0m\u001b[37m\u001b[0m \u001b[1m0s\u001b[0m 5ms/step - loss: 0.8133 - val_loss: 0.8287\n",
            "Epoch 8/100\n",
            "\u001b[1m22/22\u001b[0m \u001b[32m━━━━━━━━━━━━━━━━━━━━\u001b[0m\u001b[37m\u001b[0m \u001b[1m0s\u001b[0m 5ms/step - loss: 0.8787 - val_loss: 0.7941\n",
            "Epoch 9/100\n",
            "\u001b[1m22/22\u001b[0m \u001b[32m━━━━━━━━━━━━━━━━━━━━\u001b[0m\u001b[37m\u001b[0m \u001b[1m0s\u001b[0m 8ms/step - loss: 0.8933 - val_loss: 0.7585\n",
            "Epoch 10/100\n",
            "\u001b[1m22/22\u001b[0m \u001b[32m━━━━━━━━━━━━━━━━━━━━\u001b[0m\u001b[37m\u001b[0m \u001b[1m0s\u001b[0m 9ms/step - loss: 0.9737 - val_loss: 0.7233\n",
            "Epoch 11/100\n",
            "\u001b[1m22/22\u001b[0m \u001b[32m━━━━━━━━━━━━━━━━━━━━\u001b[0m\u001b[37m\u001b[0m \u001b[1m0s\u001b[0m 8ms/step - loss: 0.9338 - val_loss: 0.6921\n",
            "Epoch 12/100\n",
            "\u001b[1m22/22\u001b[0m \u001b[32m━━━━━━━━━━━━━━━━━━━━\u001b[0m\u001b[37m\u001b[0m \u001b[1m0s\u001b[0m 8ms/step - loss: 0.7344 - val_loss: 0.6619\n",
            "Epoch 13/100\n",
            "\u001b[1m22/22\u001b[0m \u001b[32m━━━━━━━━━━━━━━━━━━━━\u001b[0m\u001b[37m\u001b[0m \u001b[1m0s\u001b[0m 8ms/step - loss: 0.7216 - val_loss: 0.6334\n",
            "Epoch 14/100\n",
            "\u001b[1m22/22\u001b[0m \u001b[32m━━━━━━━━━━━━━━━━━━━━\u001b[0m\u001b[37m\u001b[0m \u001b[1m0s\u001b[0m 10ms/step - loss: 0.6474 - val_loss: 0.6068\n",
            "Epoch 15/100\n",
            "\u001b[1m22/22\u001b[0m \u001b[32m━━━━━━━━━━━━━━━━━━━━\u001b[0m\u001b[37m\u001b[0m \u001b[1m0s\u001b[0m 9ms/step - loss: 0.6542 - val_loss: 0.5816\n",
            "Epoch 16/100\n",
            "\u001b[1m22/22\u001b[0m \u001b[32m━━━━━━━━━━━━━━━━━━━━\u001b[0m\u001b[37m\u001b[0m \u001b[1m0s\u001b[0m 8ms/step - loss: 0.6073 - val_loss: 0.5603\n",
            "Epoch 17/100\n",
            "\u001b[1m22/22\u001b[0m \u001b[32m━━━━━━━━━━━━━━━━━━━━\u001b[0m\u001b[37m\u001b[0m \u001b[1m0s\u001b[0m 6ms/step - loss: 0.6848 - val_loss: 0.5380\n",
            "Epoch 18/100\n",
            "\u001b[1m22/22\u001b[0m \u001b[32m━━━━━━━━━━━━━━━━━━━━\u001b[0m\u001b[37m\u001b[0m \u001b[1m0s\u001b[0m 5ms/step - loss: 0.6098 - val_loss: 0.5193\n",
            "Epoch 19/100\n",
            "\u001b[1m22/22\u001b[0m \u001b[32m━━━━━━━━━━━━━━━━━━━━\u001b[0m\u001b[37m\u001b[0m \u001b[1m0s\u001b[0m 5ms/step - loss: 0.6338 - val_loss: 0.5004\n",
            "Epoch 20/100\n",
            "\u001b[1m22/22\u001b[0m \u001b[32m━━━━━━━━━━━━━━━━━━━━\u001b[0m\u001b[37m\u001b[0m \u001b[1m0s\u001b[0m 5ms/step - loss: 0.4743 - val_loss: 0.4865\n",
            "Epoch 21/100\n",
            "\u001b[1m22/22\u001b[0m \u001b[32m━━━━━━━━━━━━━━━━━━━━\u001b[0m\u001b[37m\u001b[0m \u001b[1m0s\u001b[0m 6ms/step - loss: 0.6152 - val_loss: 0.4712\n",
            "Epoch 22/100\n",
            "\u001b[1m22/22\u001b[0m \u001b[32m━━━━━━━━━━━━━━━━━━━━\u001b[0m\u001b[37m\u001b[0m \u001b[1m0s\u001b[0m 5ms/step - loss: 0.5545 - val_loss: 0.4586\n",
            "Epoch 23/100\n",
            "\u001b[1m22/22\u001b[0m \u001b[32m━━━━━━━━━━━━━━━━━━━━\u001b[0m\u001b[37m\u001b[0m \u001b[1m0s\u001b[0m 5ms/step - loss: 0.5506 - val_loss: 0.4480\n",
            "Epoch 24/100\n",
            "\u001b[1m22/22\u001b[0m \u001b[32m━━━━━━━━━━━━━━━━━━━━\u001b[0m\u001b[37m\u001b[0m \u001b[1m0s\u001b[0m 6ms/step - loss: 0.4820 - val_loss: 0.4383\n",
            "Epoch 25/100\n",
            "\u001b[1m22/22\u001b[0m \u001b[32m━━━━━━━━━━━━━━━━━━━━\u001b[0m\u001b[37m\u001b[0m \u001b[1m0s\u001b[0m 6ms/step - loss: 0.5339 - val_loss: 0.4277\n",
            "Epoch 26/100\n",
            "\u001b[1m22/22\u001b[0m \u001b[32m━━━━━━━━━━━━━━━━━━━━\u001b[0m\u001b[37m\u001b[0m \u001b[1m0s\u001b[0m 5ms/step - loss: 0.5906 - val_loss: 0.4198\n",
            "Epoch 27/100\n",
            "\u001b[1m22/22\u001b[0m \u001b[32m━━━━━━━━━━━━━━━━━━━━\u001b[0m\u001b[37m\u001b[0m \u001b[1m0s\u001b[0m 5ms/step - loss: 0.5514 - val_loss: 0.4094\n",
            "Epoch 28/100\n",
            "\u001b[1m22/22\u001b[0m \u001b[32m━━━━━━━━━━━━━━━━━━━━\u001b[0m\u001b[37m\u001b[0m \u001b[1m0s\u001b[0m 5ms/step - loss: 0.5682 - val_loss: 0.4027\n",
            "Epoch 29/100\n",
            "\u001b[1m22/22\u001b[0m \u001b[32m━━━━━━━━━━━━━━━━━━━━\u001b[0m\u001b[37m\u001b[0m \u001b[1m0s\u001b[0m 5ms/step - loss: 0.5953 - val_loss: 0.3950\n",
            "Epoch 30/100\n",
            "\u001b[1m22/22\u001b[0m \u001b[32m━━━━━━━━━━━━━━━━━━━━\u001b[0m\u001b[37m\u001b[0m \u001b[1m0s\u001b[0m 6ms/step - loss: 0.4662 - val_loss: 0.3877\n",
            "Epoch 31/100\n",
            "\u001b[1m22/22\u001b[0m \u001b[32m━━━━━━━━━━━━━━━━━━━━\u001b[0m\u001b[37m\u001b[0m \u001b[1m0s\u001b[0m 5ms/step - loss: 0.4301 - val_loss: 0.3816\n",
            "Epoch 32/100\n",
            "\u001b[1m22/22\u001b[0m \u001b[32m━━━━━━━━━━━━━━━━━━━━\u001b[0m\u001b[37m\u001b[0m \u001b[1m0s\u001b[0m 5ms/step - loss: 0.5953 - val_loss: 0.3761\n",
            "Epoch 33/100\n",
            "\u001b[1m22/22\u001b[0m \u001b[32m━━━━━━━━━━━━━━━━━━━━\u001b[0m\u001b[37m\u001b[0m \u001b[1m0s\u001b[0m 5ms/step - loss: 0.5417 - val_loss: 0.3709\n",
            "Epoch 34/100\n",
            "\u001b[1m22/22\u001b[0m \u001b[32m━━━━━━━━━━━━━━━━━━━━\u001b[0m\u001b[37m\u001b[0m \u001b[1m0s\u001b[0m 5ms/step - loss: 0.4493 - val_loss: 0.3659\n",
            "Epoch 35/100\n",
            "\u001b[1m22/22\u001b[0m \u001b[32m━━━━━━━━━━━━━━━━━━━━\u001b[0m\u001b[37m\u001b[0m \u001b[1m0s\u001b[0m 5ms/step - loss: 0.5400 - val_loss: 0.3607\n",
            "Epoch 36/100\n",
            "\u001b[1m22/22\u001b[0m \u001b[32m━━━━━━━━━━━━━━━━━━━━\u001b[0m\u001b[37m\u001b[0m \u001b[1m0s\u001b[0m 6ms/step - loss: 0.4722 - val_loss: 0.3562\n",
            "Epoch 37/100\n",
            "\u001b[1m22/22\u001b[0m \u001b[32m━━━━━━━━━━━━━━━━━━━━\u001b[0m\u001b[37m\u001b[0m \u001b[1m0s\u001b[0m 7ms/step - loss: 0.5678 - val_loss: 0.3528\n",
            "Epoch 38/100\n",
            "\u001b[1m22/22\u001b[0m \u001b[32m━━━━━━━━━━━━━━━━━━━━\u001b[0m\u001b[37m\u001b[0m \u001b[1m0s\u001b[0m 5ms/step - loss: 0.4321 - val_loss: 0.3484\n",
            "Epoch 39/100\n",
            "\u001b[1m22/22\u001b[0m \u001b[32m━━━━━━━━━━━━━━━━━━━━\u001b[0m\u001b[37m\u001b[0m \u001b[1m0s\u001b[0m 5ms/step - loss: 0.4314 - val_loss: 0.3426\n",
            "Epoch 40/100\n",
            "\u001b[1m22/22\u001b[0m \u001b[32m━━━━━━━━━━━━━━━━━━━━\u001b[0m\u001b[37m\u001b[0m \u001b[1m0s\u001b[0m 5ms/step - loss: 0.4987 - val_loss: 0.3395\n",
            "Epoch 41/100\n",
            "\u001b[1m22/22\u001b[0m \u001b[32m━━━━━━━━━━━━━━━━━━━━\u001b[0m\u001b[37m\u001b[0m \u001b[1m0s\u001b[0m 5ms/step - loss: 0.3724 - val_loss: 0.3350\n",
            "Epoch 42/100\n",
            "\u001b[1m22/22\u001b[0m \u001b[32m━━━━━━━━━━━━━━━━━━━━\u001b[0m\u001b[37m\u001b[0m \u001b[1m0s\u001b[0m 5ms/step - loss: 0.4976 - val_loss: 0.3313\n",
            "Epoch 43/100\n",
            "\u001b[1m22/22\u001b[0m \u001b[32m━━━━━━━━━━━━━━━━━━━━\u001b[0m\u001b[37m\u001b[0m \u001b[1m0s\u001b[0m 5ms/step - loss: 0.4559 - val_loss: 0.3276\n",
            "Epoch 44/100\n",
            "\u001b[1m22/22\u001b[0m \u001b[32m━━━━━━━━━━━━━━━━━━━━\u001b[0m\u001b[37m\u001b[0m \u001b[1m0s\u001b[0m 5ms/step - loss: 0.3764 - val_loss: 0.3250\n",
            "Epoch 45/100\n",
            "\u001b[1m22/22\u001b[0m \u001b[32m━━━━━━━━━━━━━━━━━━━━\u001b[0m\u001b[37m\u001b[0m \u001b[1m0s\u001b[0m 5ms/step - loss: 0.4636 - val_loss: 0.3213\n",
            "Epoch 46/100\n",
            "\u001b[1m22/22\u001b[0m \u001b[32m━━━━━━━━━━━━━━━━━━━━\u001b[0m\u001b[37m\u001b[0m \u001b[1m0s\u001b[0m 5ms/step - loss: 0.4815 - val_loss: 0.3187\n",
            "Epoch 47/100\n",
            "\u001b[1m22/22\u001b[0m \u001b[32m━━━━━━━━━━━━━━━━━━━━\u001b[0m\u001b[37m\u001b[0m \u001b[1m0s\u001b[0m 5ms/step - loss: 0.5032 - val_loss: 0.3142\n",
            "Epoch 48/100\n",
            "\u001b[1m22/22\u001b[0m \u001b[32m━━━━━━━━━━━━━━━━━━━━\u001b[0m\u001b[37m\u001b[0m \u001b[1m0s\u001b[0m 5ms/step - loss: 0.4537 - val_loss: 0.3121\n",
            "Epoch 49/100\n",
            "\u001b[1m22/22\u001b[0m \u001b[32m━━━━━━━━━━━━━━━━━━━━\u001b[0m\u001b[37m\u001b[0m \u001b[1m0s\u001b[0m 5ms/step - loss: 0.3969 - val_loss: 0.3096\n",
            "Epoch 50/100\n",
            "\u001b[1m22/22\u001b[0m \u001b[32m━━━━━━━━━━━━━━━━━━━━\u001b[0m\u001b[37m\u001b[0m \u001b[1m0s\u001b[0m 5ms/step - loss: 0.3538 - val_loss: 0.3067\n",
            "Epoch 51/100\n",
            "\u001b[1m22/22\u001b[0m \u001b[32m━━━━━━━━━━━━━━━━━━━━\u001b[0m\u001b[37m\u001b[0m \u001b[1m0s\u001b[0m 5ms/step - loss: 0.4643 - val_loss: 0.3040\n",
            "Epoch 52/100\n",
            "\u001b[1m22/22\u001b[0m \u001b[32m━━━━━━━━━━━━━━━━━━━━\u001b[0m\u001b[37m\u001b[0m \u001b[1m0s\u001b[0m 6ms/step - loss: 0.3697 - val_loss: 0.3011\n",
            "Epoch 53/100\n",
            "\u001b[1m22/22\u001b[0m \u001b[32m━━━━━━━━━━━━━━━━━━━━\u001b[0m\u001b[37m\u001b[0m \u001b[1m0s\u001b[0m 5ms/step - loss: 0.5146 - val_loss: 0.2971\n",
            "Epoch 54/100\n",
            "\u001b[1m22/22\u001b[0m \u001b[32m━━━━━━━━━━━━━━━━━━━━\u001b[0m\u001b[37m\u001b[0m \u001b[1m0s\u001b[0m 5ms/step - loss: 0.3247 - val_loss: 0.2943\n",
            "Epoch 55/100\n",
            "\u001b[1m22/22\u001b[0m \u001b[32m━━━━━━━━━━━━━━━━━━━━\u001b[0m\u001b[37m\u001b[0m \u001b[1m0s\u001b[0m 5ms/step - loss: 0.3699 - val_loss: 0.2902\n",
            "Epoch 56/100\n",
            "\u001b[1m22/22\u001b[0m \u001b[32m━━━━━━━━━━━━━━━━━━━━\u001b[0m\u001b[37m\u001b[0m \u001b[1m0s\u001b[0m 7ms/step - loss: 0.3885 - val_loss: 0.2877\n",
            "Epoch 57/100\n",
            "\u001b[1m22/22\u001b[0m \u001b[32m━━━━━━━━━━━━━━━━━━━━\u001b[0m\u001b[37m\u001b[0m \u001b[1m0s\u001b[0m 5ms/step - loss: 0.3408 - val_loss: 0.2857\n",
            "Epoch 58/100\n",
            "\u001b[1m22/22\u001b[0m \u001b[32m━━━━━━━━━━━━━━━━━━━━\u001b[0m\u001b[37m\u001b[0m \u001b[1m0s\u001b[0m 5ms/step - loss: 0.3999 - val_loss: 0.2804\n",
            "Epoch 59/100\n",
            "\u001b[1m22/22\u001b[0m \u001b[32m━━━━━━━━━━━━━━━━━━━━\u001b[0m\u001b[37m\u001b[0m \u001b[1m0s\u001b[0m 5ms/step - loss: 0.3104 - val_loss: 0.2775\n",
            "Epoch 60/100\n",
            "\u001b[1m22/22\u001b[0m \u001b[32m━━━━━━━━━━━━━━━━━━━━\u001b[0m\u001b[37m\u001b[0m \u001b[1m0s\u001b[0m 5ms/step - loss: 0.3915 - val_loss: 0.2742\n",
            "Epoch 61/100\n",
            "\u001b[1m22/22\u001b[0m \u001b[32m━━━━━━━━━━━━━━━━━━━━\u001b[0m\u001b[37m\u001b[0m \u001b[1m0s\u001b[0m 5ms/step - loss: 0.3948 - val_loss: 0.2712\n",
            "Epoch 62/100\n",
            "\u001b[1m22/22\u001b[0m \u001b[32m━━━━━━━━━━━━━━━━━━━━\u001b[0m\u001b[37m\u001b[0m \u001b[1m0s\u001b[0m 5ms/step - loss: 0.3780 - val_loss: 0.2674\n",
            "Epoch 63/100\n",
            "\u001b[1m22/22\u001b[0m \u001b[32m━━━━━━━━━━━━━━━━━━━━\u001b[0m\u001b[37m\u001b[0m \u001b[1m0s\u001b[0m 6ms/step - loss: 0.3180 - val_loss: 0.2655\n",
            "Epoch 64/100\n",
            "\u001b[1m22/22\u001b[0m \u001b[32m━━━━━━━━━━━━━━━━━━━━\u001b[0m\u001b[37m\u001b[0m \u001b[1m0s\u001b[0m 5ms/step - loss: 0.3152 - val_loss: 0.2620\n",
            "Epoch 65/100\n",
            "\u001b[1m22/22\u001b[0m \u001b[32m━━━━━━━━━━━━━━━━━━━━\u001b[0m\u001b[37m\u001b[0m \u001b[1m0s\u001b[0m 5ms/step - loss: 0.3065 - val_loss: 0.2589\n",
            "Epoch 66/100\n",
            "\u001b[1m22/22\u001b[0m \u001b[32m━━━━━━━━━━━━━━━━━━━━\u001b[0m\u001b[37m\u001b[0m \u001b[1m0s\u001b[0m 5ms/step - loss: 0.3181 - val_loss: 0.2545\n",
            "Epoch 67/100\n",
            "\u001b[1m22/22\u001b[0m \u001b[32m━━━━━━━━━━━━━━━━━━━━\u001b[0m\u001b[37m\u001b[0m \u001b[1m0s\u001b[0m 5ms/step - loss: 0.2897 - val_loss: 0.2510\n",
            "Epoch 68/100\n",
            "\u001b[1m22/22\u001b[0m \u001b[32m━━━━━━━━━━━━━━━━━━━━\u001b[0m\u001b[37m\u001b[0m \u001b[1m0s\u001b[0m 5ms/step - loss: 0.3574 - val_loss: 0.2476\n",
            "Epoch 69/100\n",
            "\u001b[1m22/22\u001b[0m \u001b[32m━━━━━━━━━━━━━━━━━━━━\u001b[0m\u001b[37m\u001b[0m \u001b[1m0s\u001b[0m 5ms/step - loss: 0.2905 - val_loss: 0.2448\n",
            "Epoch 70/100\n",
            "\u001b[1m22/22\u001b[0m \u001b[32m━━━━━━━━━━━━━━━━━━━━\u001b[0m\u001b[37m\u001b[0m \u001b[1m0s\u001b[0m 6ms/step - loss: 0.3625 - val_loss: 0.2412\n",
            "Epoch 71/100\n",
            "\u001b[1m22/22\u001b[0m \u001b[32m━━━━━━━━━━━━━━━━━━━━\u001b[0m\u001b[37m\u001b[0m \u001b[1m0s\u001b[0m 5ms/step - loss: 0.2966 - val_loss: 0.2369\n",
            "Epoch 72/100\n",
            "\u001b[1m22/22\u001b[0m \u001b[32m━━━━━━━━━━━━━━━━━━━━\u001b[0m\u001b[37m\u001b[0m \u001b[1m0s\u001b[0m 5ms/step - loss: 0.3028 - val_loss: 0.2351\n",
            "Epoch 73/100\n",
            "\u001b[1m22/22\u001b[0m \u001b[32m━━━━━━━━━━━━━━━━━━━━\u001b[0m\u001b[37m\u001b[0m \u001b[1m0s\u001b[0m 5ms/step - loss: 0.2717 - val_loss: 0.2329\n",
            "Epoch 74/100\n",
            "\u001b[1m22/22\u001b[0m \u001b[32m━━━━━━━━━━━━━━━━━━━━\u001b[0m\u001b[37m\u001b[0m \u001b[1m0s\u001b[0m 5ms/step - loss: 0.3100 - val_loss: 0.2300\n",
            "Epoch 75/100\n",
            "\u001b[1m22/22\u001b[0m \u001b[32m━━━━━━━━━━━━━━━━━━━━\u001b[0m\u001b[37m\u001b[0m \u001b[1m0s\u001b[0m 5ms/step - loss: 0.2842 - val_loss: 0.2291\n",
            "Epoch 76/100\n",
            "\u001b[1m22/22\u001b[0m \u001b[32m━━━━━━━━━━━━━━━━━━━━\u001b[0m\u001b[37m\u001b[0m \u001b[1m0s\u001b[0m 5ms/step - loss: 0.3036 - val_loss: 0.2258\n",
            "Epoch 77/100\n",
            "\u001b[1m22/22\u001b[0m \u001b[32m━━━━━━━━━━━━━━━━━━━━\u001b[0m\u001b[37m\u001b[0m \u001b[1m0s\u001b[0m 5ms/step - loss: 0.2442 - val_loss: 0.2260\n",
            "Epoch 78/100\n",
            "\u001b[1m22/22\u001b[0m \u001b[32m━━━━━━━━━━━━━━━━━━━━\u001b[0m\u001b[37m\u001b[0m \u001b[1m0s\u001b[0m 5ms/step - loss: 0.2521 - val_loss: 0.2241\n",
            "Epoch 79/100\n",
            "\u001b[1m22/22\u001b[0m \u001b[32m━━━━━━━━━━━━━━━━━━━━\u001b[0m\u001b[37m\u001b[0m \u001b[1m0s\u001b[0m 6ms/step - loss: 0.2466 - val_loss: 0.2204\n",
            "Epoch 80/100\n",
            "\u001b[1m22/22\u001b[0m \u001b[32m━━━━━━━━━━━━━━━━━━━━\u001b[0m\u001b[37m\u001b[0m \u001b[1m0s\u001b[0m 9ms/step - loss: 0.3492 - val_loss: 0.2195\n",
            "Epoch 81/100\n",
            "\u001b[1m22/22\u001b[0m \u001b[32m━━━━━━━━━━━━━━━━━━━━\u001b[0m\u001b[37m\u001b[0m \u001b[1m0s\u001b[0m 7ms/step - loss: 0.3294 - val_loss: 0.2186\n",
            "Epoch 82/100\n",
            "\u001b[1m22/22\u001b[0m \u001b[32m━━━━━━━━━━━━━━━━━━━━\u001b[0m\u001b[37m\u001b[0m \u001b[1m0s\u001b[0m 10ms/step - loss: 0.2238 - val_loss: 0.2164\n",
            "Epoch 83/100\n",
            "\u001b[1m22/22\u001b[0m \u001b[32m━━━━━━━━━━━━━━━━━━━━\u001b[0m\u001b[37m\u001b[0m \u001b[1m0s\u001b[0m 8ms/step - loss: 0.2305 - val_loss: 0.2176\n",
            "Epoch 84/100\n",
            "\u001b[1m22/22\u001b[0m \u001b[32m━━━━━━━━━━━━━━━━━━━━\u001b[0m\u001b[37m\u001b[0m \u001b[1m0s\u001b[0m 9ms/step - loss: 0.2644 - val_loss: 0.2142\n",
            "Epoch 85/100\n",
            "\u001b[1m22/22\u001b[0m \u001b[32m━━━━━━━━━━━━━━━━━━━━\u001b[0m\u001b[37m\u001b[0m \u001b[1m0s\u001b[0m 9ms/step - loss: 0.2623 - val_loss: 0.2138\n",
            "Epoch 86/100\n",
            "\u001b[1m22/22\u001b[0m \u001b[32m━━━━━━━━━━━━━━━━━━━━\u001b[0m\u001b[37m\u001b[0m \u001b[1m0s\u001b[0m 9ms/step - loss: 0.2694 - val_loss: 0.2126\n",
            "Epoch 87/100\n",
            "\u001b[1m22/22\u001b[0m \u001b[32m━━━━━━━━━━━━━━━━━━━━\u001b[0m\u001b[37m\u001b[0m \u001b[1m0s\u001b[0m 9ms/step - loss: 0.2384 - val_loss: 0.2131\n",
            "Epoch 88/100\n",
            "\u001b[1m22/22\u001b[0m \u001b[32m━━━━━━━━━━━━━━━━━━━━\u001b[0m\u001b[37m\u001b[0m \u001b[1m0s\u001b[0m 5ms/step - loss: 0.2584 - val_loss: 0.2109\n",
            "Epoch 89/100\n",
            "\u001b[1m22/22\u001b[0m \u001b[32m━━━━━━━━━━━━━━━━━━━━\u001b[0m\u001b[37m\u001b[0m \u001b[1m0s\u001b[0m 5ms/step - loss: 0.2556 - val_loss: 0.2101\n",
            "Epoch 90/100\n",
            "\u001b[1m22/22\u001b[0m \u001b[32m━━━━━━━━━━━━━━━━━━━━\u001b[0m\u001b[37m\u001b[0m \u001b[1m0s\u001b[0m 5ms/step - loss: 0.2659 - val_loss: 0.2099\n",
            "Epoch 91/100\n",
            "\u001b[1m22/22\u001b[0m \u001b[32m━━━━━━━━━━━━━━━━━━━━\u001b[0m\u001b[37m\u001b[0m \u001b[1m0s\u001b[0m 5ms/step - loss: 0.2551 - val_loss: 0.2079\n",
            "Epoch 92/100\n",
            "\u001b[1m22/22\u001b[0m \u001b[32m━━━━━━━━━━━━━━━━━━━━\u001b[0m\u001b[37m\u001b[0m \u001b[1m0s\u001b[0m 5ms/step - loss: 0.2416 - val_loss: 0.2076\n",
            "Epoch 93/100\n",
            "\u001b[1m22/22\u001b[0m \u001b[32m━━━━━━━━━━━━━━━━━━━━\u001b[0m\u001b[37m\u001b[0m \u001b[1m0s\u001b[0m 6ms/step - loss: 0.2491 - val_loss: 0.2068\n",
            "Epoch 94/100\n",
            "\u001b[1m22/22\u001b[0m \u001b[32m━━━━━━━━━━━━━━━━━━━━\u001b[0m\u001b[37m\u001b[0m \u001b[1m0s\u001b[0m 5ms/step - loss: 0.2866 - val_loss: 0.2066\n",
            "Epoch 95/100\n",
            "\u001b[1m22/22\u001b[0m \u001b[32m━━━━━━━━━━━━━━━━━━━━\u001b[0m\u001b[37m\u001b[0m \u001b[1m0s\u001b[0m 5ms/step - loss: 0.2324 - val_loss: 0.2062\n",
            "Epoch 96/100\n",
            "\u001b[1m22/22\u001b[0m \u001b[32m━━━━━━━━━━━━━━━━━━━━\u001b[0m\u001b[37m\u001b[0m \u001b[1m0s\u001b[0m 5ms/step - loss: 0.2316 - val_loss: 0.2055\n",
            "Epoch 97/100\n",
            "\u001b[1m22/22\u001b[0m \u001b[32m━━━━━━━━━━━━━━━━━━━━\u001b[0m\u001b[37m\u001b[0m \u001b[1m0s\u001b[0m 6ms/step - loss: 0.2993 - val_loss: 0.2046\n",
            "Epoch 98/100\n",
            "\u001b[1m22/22\u001b[0m \u001b[32m━━━━━━━━━━━━━━━━━━━━\u001b[0m\u001b[37m\u001b[0m \u001b[1m0s\u001b[0m 5ms/step - loss: 0.2505 - val_loss: 0.2034\n",
            "Epoch 99/100\n",
            "\u001b[1m22/22\u001b[0m \u001b[32m━━━━━━━━━━━━━━━━━━━━\u001b[0m\u001b[37m\u001b[0m \u001b[1m0s\u001b[0m 5ms/step - loss: 0.2616 - val_loss: 0.2013\n",
            "Epoch 100/100\n",
            "\u001b[1m22/22\u001b[0m \u001b[32m━━━━━━━━━━━━━━━━━━━━\u001b[0m\u001b[37m\u001b[0m \u001b[1m0s\u001b[0m 5ms/step - loss: 0.2825 - val_loss: 0.2023\n"
          ]
        }
      ]
    },
    {
      "cell_type": "code",
      "source": [
        "# Plot training history\n",
        "plt.plot(history.history['loss'], label='Training Loss')\n",
        "plt.plot(history.history['val_loss'], label='Validation Loss')\n",
        "plt.title('Autoencoder Training History')\n",
        "plt.ylabel('Loss')\n",
        "plt.xlabel('Epoch')\n",
        "plt.legend()\n",
        "plt.show()\n"
      ],
      "metadata": {
        "colab": {
          "base_uri": "https://localhost:8080/",
          "height": 472
        },
        "id": "-biU6pgN2kD8",
        "outputId": "a3970300-3f20-480f-9688-d3211cf8f011"
      },
      "execution_count": 9,
      "outputs": [
        {
          "output_type": "display_data",
          "data": {
            "text/plain": [
              "<Figure size 640x480 with 1 Axes>"
            ],
            "image/png": "[encoded data removed]"
          },
          "metadata": {}
        }
      ]
    },
    {
      "cell_type": "code",
      "source": [
        "# Create encoder model for feature extraction\n",
        "encoder_model = keras.Model(inputs=input_layer, outputs=encoder)\n",
        "\n",
        "# Encode all features\n",
        "encoded_features = encoder_model.predict(scaled_features)\n"
      ],
      "metadata": {
        "colab": {
          "base_uri": "https://localhost:8080/"
        },
        "id": "JUW534hY3GoD",
        "outputId": "35a7c009-08f4-4acf-a610-faa18c0751d1"
      },
      "execution_count": 10,
      "outputs": [
        {
          "output_type": "stream",
          "name": "stdout",
          "text": [
            "\u001b[1m14/14\u001b[0m \u001b[32m━━━━━━━━━━━━━━━━━━━━\u001b[0m\u001b[37m\u001b[0m \u001b[1m0s\u001b[0m 12ms/step\n"
          ]
        }
      ]
    },
    {
      "cell_type": "code",
      "source": [
        "# Replace original features with encoded features in the data structure\n",
        "encoded_data = {}\n",
        "feature_index = 0\n",
        "for user_id, user_data in data.items():\n",
        "    encoded_data[user_id] = {\n",
        "        \"features\": [],\n",
        "        \"file_names\": user_data[\"file_names\"]\n",
        "    }\n",
        "    for i in range(len(user_data[\"features\"])):\n",
        "        encoded_data[user_id][\"features\"].append(encoded_features[feature_index].tolist())\n",
        "        feature_index += 1\n"
      ],
      "metadata": {
        "id": "hGU3GWLv3LPP"
      },
      "execution_count": 11,
      "outputs": []
    },
    {
      "cell_type": "code",
      "source": [
        "# Now use the encoded_data for encryption instead of the original data\n",
        "print(\"Sample encoded feature:\", encoded_data[\"1\"][\"features\"][0])\n",
        "print(\"Original dimension: 5, Encoded dimension:\", len(encoded_data[\"1\"][\"features\"][0]))\n"
      ],
      "metadata": {
        "colab": {
          "base_uri": "https://localhost:8080/"
        },
        "id": "ShLOc3HX3krZ",
        "outputId": "36b7f256-17b6-499b-b4b1-e681295530e1"
      },
      "execution_count": 12,
      "outputs": [
        {
          "output_type": "stream",
          "name": "stdout",
          "text": [
            "Sample encoded feature: [4.264341354370117, 0.42271915078163147, 0.8716896772384644]\n",
            "Original dimension: 5, Encoded dimension: 3\n"
          ]
        }
      ]
    },
    {
      "cell_type": "code",
      "source": [
        "# Replace original features with encoded features in the data structure\n",
        "\"\"\"\n",
        "encoded_data = {}\n",
        "feature_index = 0\n",
        "\n",
        "print(\"=== DEBUGGING ENCODED DATA CREATION ===\")\n",
        "print(f\"Total users in original data: {len(data)}\")\n",
        "print(f\"Encoded features shape: {encoded_features.shape}\")\n",
        "print(f\"Total encoded feature vectors: {len(encoded_features)}\")\n",
        "\n",
        "# First, let's check what's in the original data\n",
        "print(\"\\n=== ORIGINAL DATA SAMPLES ===\")\n",
        "for user_id in list(data.keys())[:2]:  # Check first 2 users\n",
        "    print(f\"User {user_id}: {len(data[user_id]['features'])} feature vectors\")\n",
        "    print(f\"  First feature vector: {data[user_id]['features'][0]}\")\n",
        "\n",
        "# Now create the encoded_data structure\n",
        "encoded_data = {}\n",
        "feature_index = 0\n",
        "\n",
        "for user_id, user_data in data.items():\n",
        "    encoded_data[user_id] = {\n",
        "        \"features\": [],\n",
        "        \"file_names\": user_data[\"file_names\"]\n",
        "    }\n",
        "\n",
        "    # Add encoded features for this user\n",
        "    num_features = len(user_data[\"features\"])\n",
        "    for i in range(num_features):\n",
        "        if feature_index < len(encoded_features):\n",
        "            encoded_data[user_id][\"features\"].append(encoded_features[feature_index].tolist())\n",
        "            feature_index += 1\n",
        "        else:\n",
        "            print(f\"WARNING: Not enough encoded features for user {user_id}\")\n",
        "            break\n",
        "\n",
        "print(f\"\\nTotal features processed: {feature_index}\")\n",
        "print(f\"Expected total: {sum(len(user_data['features']) for user_data in data.values())}\")\n",
        "\n",
        "# Verify the encoded data\n",
        "print(\"\\n=== ENCODED DATA VERIFICATION ===\")\n",
        "for user_id in list(encoded_data.keys())[:3]:  # Show first 3 users\n",
        "    if encoded_data[user_id][\"features\"]:\n",
        "        print(f\"\\nUser {user_id}:\")\n",
        "        print(f\"  Encoded features: {len(encoded_data[user_id]['features'])} vectors\")\n",
        "        print(f\"  First encoded vector: {encoded_data[user_id]['features'][0]}\")\n",
        "        print(f\"  Vector dimension: {len(encoded_data[user_id]['features'][0])}\")\n",
        "        print(f\"  File names: {encoded_data[user_id]['file_names'][:3]}...\")  # Show first 3\n",
        "    else:\n",
        "        print(f\"\\nUser {user_id}: NO ENCODED FEATURES!\")\n",
        "        \"\"\""
      ],
      "metadata": {
        "colab": {
          "base_uri": "https://localhost:8080/",
          "height": 123
        },
        "id": "-6_-HaIk3o8U",
        "outputId": "fe825a0d-96a5-477e-d10b-4a0a905ae2b8"
      },
      "execution_count": null,
      "outputs": [
        {
          "output_type": "execute_result",
          "data": {
            "text/plain": [
              "'\\nencoded_data = {}\\nfeature_index = 0\\n\\nprint(\"=== DEBUGGING ENCODED DATA CREATION ===\")\\nprint(f\"Total users in original data: {len(data)}\")\\nprint(f\"Encoded features shape: {encoded_features.shape}\")\\nprint(f\"Total encoded feature vectors: {len(encoded_features)}\")\\n\\n# First, let\\'s check what\\'s in the original data\\nprint(\"\\n=== ORIGINAL DATA SAMPLES ===\")\\nfor user_id in list(data.keys())[:2]:  # Check first 2 users\\n    print(f\"User {user_id}: {len(data[user_id][\\'features\\'])} feature vectors\")\\n    print(f\"  First feature vector: {data[user_id][\\'features\\'][0]}\")\\n\\n# Now create the encoded_data structure\\nencoded_data = {}\\nfeature_index = 0\\n\\nfor user_id, user_data in data.items():\\n    encoded_data[user_id] = {\\n        \"features\": [],\\n        \"file_names\": user_data[\"file_names\"]\\n    }\\n    \\n    # Add encoded features for this user\\n    num_features = len(user_data[\"features\"])\\n    for i in range(num_features):\\n        if feature_index < len(encoded_features):\\n            encoded_data[user_id][\"features\"].append(encoded_features[feature_index].tolist())\\n            feature_index += 1\\n        else:\\n            print(f\"WARNING: Not enough encoded features for user {user_id}\")\\n            break\\n\\nprint(f\"\\nTotal features processed: {feature_index}\")\\nprint(f\"Expected total: {sum(len(user_data[\\'features\\']) for user_data in data.values())}\")\\n\\n# Verify the encoded data\\nprint(\"\\n=== ENCODED DATA VERIFICATION ===\")\\nfor user_id in list(encoded_data.keys())[:3]:  # Show first 3 users\\n    if encoded_data[user_id][\"features\"]:\\n        print(f\"\\nUser {user_id}:\")\\n        print(f\"  Encoded features: {len(encoded_data[user_id][\\'features\\'])} vectors\")\\n        print(f\"  First encoded vector: {encoded_data[user_id][\\'features\\'][0]}\")\\n        print(f\"  Vector dimension: {len(encoded_data[user_id][\\'features\\'][0])}\")\\n        print(f\"  File names: {encoded_data[user_id][\\'file_names\\'][:3]}...\")  # Show first 3\\n    else:\\n        print(f\"\\nUser {user_id}: NO ENCODED FEATURES!\")\\n        '"
            ],
            "application/vnd.google.colaboratory.intrinsic+json": {
              "type": "string"
            }
          },
          "metadata": {},
          "execution_count": 17
        }
      ]
    },
    {
      "cell_type": "code",
      "source": [
        "# Function to create CKKS context\n",
        "def create_ckks_context():\n",
        "    context = ts.context(\n",
        "        ts.SCHEME_TYPE.CKKS,\n",
        "        poly_modulus_degree=8192,\n",
        "        coeff_mod_bit_sizes=[60, 40, 40, 60]\n",
        "    )\n",
        "    context.generate_galois_keys()\n",
        "    context.global_scale = 2 ** 40\n",
        "    return context\n",
        "\n",
        "# Create encryption context\n",
        "context = create_ckks_context()\n",
        "public_context = context.copy()\n",
        "public_context.make_context_public()\n",
        "\n",
        "# Encrypt all encoded feature vectors and store them\n",
        "encrypted_database = {}\n",
        "\n",
        "for user_id, user_data in encoded_data.items():\n",
        "    encrypted_features = []\n",
        "    for vec in user_data[\"features\"]:\n",
        "        enc_vec = ts.ckks_vector(public_context, vec)\n",
        "        encrypted_features.append(enc_vec.serialize())\n",
        "    encrypted_database[user_id] = encrypted_features\n",
        "\n",
        "# Modified cosine similarity function for encrypted vectors\n",
        "def cosine_similarity_encrypted(v1, v2, context):\n",
        "    # Numerator: Encrypted dot product\n",
        "    dot_product = v1.dot(v2)\n",
        "\n",
        "    # Norms (plaintext)\n",
        "    norm_v1 = np.sqrt(v1.dot(v1).decrypt()[0])\n",
        "    norm_v2 = np.sqrt(v2.dot(v2).decrypt()[0])\n",
        "\n",
        "    # Denominator (plaintext)\n",
        "    denom = norm_v1 * norm_v2\n",
        "\n",
        "    if denom == 0:\n",
        "        return ts.ckks_vector(context, [0.0])\n",
        "\n",
        "    # Workaround: multiply with inverse\n",
        "    inverse_denom = 1.0 / denom\n",
        "    return dot_product * inverse_denom\n",
        "\n"
      ],
      "metadata": {
        "id": "WG4y_nBy4mSw"
      },
      "execution_count": 13,
      "outputs": []
    },
    {
      "cell_type": "code",
      "source": [
        "# Test with a query from user 1 (first feature)\n",
        "query_vec = encoded_data[\"25\"][\"features\"][0]\n",
        "enc_query = ts.ckks_vector(context, query_vec)\n",
        "\n",
        "scores = []\n",
        "\n",
        "for user_id, encrypted_feature_list in encrypted_database.items():\n",
        "    for enc_feat_serialized in encrypted_feature_list:\n",
        "        try:\n",
        "            enc_feat = ts.ckks_vector_from(context, enc_feat_serialized)\n",
        "            sim = cosine_similarity_encrypted(enc_query, enc_feat, context)\n",
        "            score = sim.decrypt()[0]\n",
        "            scores.append((user_id, score))\n",
        "        except Exception as e:\n",
        "            print(f\"Error comparing with User {user_id}: {e}\")\n",
        "\n"
      ],
      "metadata": {
        "id": "-ya2-Y6k5JEN"
      },
      "execution_count": 14,
      "outputs": []
    },
    {
      "cell_type": "code",
      "source": [
        "# Sort and display top matches\n",
        "scores = sorted(scores, key=lambda x: x[1], reverse=True)\n",
        "\n",
        "print(\"Top 5 Matches:\")\n",
        "for uid, sim in scores[:5]:\n",
        "    print(f\"User {uid} → Similarity: {sim:.4f}\")\n",
        "\n",
        "# Apply threshold\n",
        "threshold = 0.85\n",
        "best_match = scores[0]\n",
        "if best_match[1] >= threshold:\n",
        "    print(f\"\\nAuthenticated as User {best_match[0]} with similarity {best_match[1]:.4f}\")\n",
        "else:\n",
        "    print(f\"\\nAuthentication failed. Best match is User {best_match[0]} with similarity {best_match[1]:.4f}\")\n"
      ],
      "metadata": {
        "colab": {
          "base_uri": "https://localhost:8080/"
        },
        "id": "IVwZkmn95TC5",
        "outputId": "0670428d-6bc3-4898-e6b8-55b27225328f"
      },
      "execution_count": 23,
      "outputs": [
        {
          "output_type": "stream",
          "name": "stdout",
          "text": [
            "Top 5 Matches:\n",
            "User 25 → Similarity: 1.0000\n",
            "User 15 → Similarity: 0.9991\n",
            "User 28 → Similarity: 0.9985\n",
            "User 5 → Similarity: 0.9985\n",
            "User 12 → Similarity: 0.9978\n",
            "\n",
            "Authenticated as User 25 with similarity 1.0000\n"
          ]
        }
      ]
    },
    {
      "cell_type": "code",
      "source": [
        "\"\"\"# Test with a fake vector\n",
        "fake_vec = np.random.rand(encoding_dim).tolist()\n",
        "enc_fake_query = ts.ckks_vector(context, fake_vec)\n",
        "\n",
        "fake_scores = []\n",
        "for user_id, enc_feat_list in encrypted_database.items():\n",
        "    for enc_feat_serialized in enc_feat_list:\n",
        "        enc_feat = ts.ckks_vector_from(context, enc_feat_serialized)\n",
        "        try:\n",
        "            dot = enc_fake_query.dot(enc_feat)\n",
        "            norm_fake = np.sqrt(enc_fake_query.dot(enc_fake_query).decrypt()[0])\n",
        "            norm_db = np.sqrt(enc_feat.dot(enc_feat).decrypt()[0])\n",
        "            if norm_fake == 0 or norm_db == 0:\n",
        "                similarity = 0.0\n",
        "            else:\n",
        "                similarity = dot * (1.0 / (norm_fake * norm_db))\n",
        "            score = similarity.decrypt()[0]\n",
        "            fake_scores.append((user_id, score))\n",
        "        except Exception as e:\n",
        "            print(f\"Error comparing with User {user_id}: {e}\")\n",
        "\n",
        "fake_scores = sorted(fake_scores, key=lambda x: x[1], reverse=True)\n",
        "\n",
        "print(\"\\nTop 5 Matches for Fake Vector:\")\n",
        "for uid, sim in fake_scores[:5]:\n",
        "    print(f\"User {uid} → Similarity: {sim:.4f}\")\n",
        "\n",
        "if fake_scores[0][1] >= 0.97:\n",
        "    print(f\"\\nFAKE vector accepted (this should not happen). Matched User {fake_scores[0][0]} with {fake_scores[0][1]:.4f}\")\n",
        "else:\n",
        "    print(f\"\\nFAKE vector correctly rejected. Highest similarity: {fake_scores[0][1]:.4f}\")\n",
        "\"\"\""
      ],
      "metadata": {
        "colab": {
          "base_uri": "https://localhost:8080/"
        },
        "id": "HJInJmAs5oYK",
        "outputId": "b33c4d1d-d1d1-457e-bd48-7529ecc569e2"
      },
      "execution_count": 17,
      "outputs": [
        {
          "output_type": "stream",
          "name": "stdout",
          "text": [
            "\n",
            "Top 5 Matches for Fake Vector:\n",
            "User 12 → Similarity: 0.9961\n",
            "User 17 → Similarity: 0.9914\n",
            "User 6 → Similarity: 0.9894\n",
            "User 35 → Similarity: 0.9862\n",
            "User 9 → Similarity: 0.9849\n",
            "\n",
            "FAKE vector accepted (this should not happen). Matched User 12 with 0.9961\n"
          ]
        }
      ]
    },
    {
      "cell_type": "code",
      "source": [
        "# Calculate authentication accuracy\n",
        "def calculate_accuracy(scores, threshold=0.95):\n",
        "    correct = 0\n",
        "    total = len(scores)\n",
        "\n",
        "    for user_id, score in scores:\n",
        "        if user_id == \"1\" and score >= threshold:  # Correct acceptance\n",
        "            correct += 1\n",
        "        elif user_id != \"1\" and score < threshold:  # Correct rejection\n",
        "            correct += 1\n",
        "\n",
        "    return correct / total\n",
        "\n",
        "# Calculate accuracy\n",
        "accuracy = calculate_accuracy(scores)\n",
        "print(f\"Authentication Accuracy: {accuracy:.2%}\")\n",
        "\n",
        "# For genuine user (User 1)\n",
        "genuine_scores = [score for uid, score in scores if uid == \"1\"]\n",
        "print(f\"Genuine User (User 1) - Average similarity: {np.mean(genuine_scores):.4f}\")\n",
        "print(f\"Genuine User (User 1) - Min similarity: {np.min(genuine_scores):.4f}\")\n",
        "print(f\"Genuine User (User 1) - Max similarity: {np.max(genuine_scores):.4f}\")\n",
        "\n",
        "# For imposters (other users)\n",
        "imposter_scores = [score for uid, score in scores if uid != \"1\"]\n",
        "print(f\"Imposters - Average similarity: {np.mean(imposter_scores):.4f}\")\n",
        "print(f\"Imposters - Min similarity: {np.min(imposter_scores):.4f}\")\n",
        "print(f\"Imposters - Max similarity: {np.max(imposter_scores):.4f}\")"
      ],
      "metadata": {
        "colab": {
          "base_uri": "https://localhost:8080/"
        },
        "id": "6Pl_msP06Qrd",
        "outputId": "91150e1f-4ccf-4acc-a534-a0d55a6e6d03"
      },
      "execution_count": 24,
      "outputs": [
        {
          "output_type": "stream",
          "name": "stdout",
          "text": [
            "Authentication Accuracy: 83.95%\n",
            "Genuine User (User 1) - Average similarity: 0.6303\n",
            "Genuine User (User 1) - Min similarity: 0.4124\n",
            "Genuine User (User 1) - Max similarity: 0.9865\n",
            "Imposters - Average similarity: 0.7427\n",
            "Imposters - Min similarity: 0.3551\n",
            "Imposters - Max similarity: 1.0000\n"
          ]
        }
      ]
    },
    {
      "cell_type": "code",
      "source": [
        "import matplotlib.pyplot as plt\n",
        "import seaborn as sns\n",
        "\n",
        "# Plot similarity score distribution\n",
        "plt.figure(figsize=(12, 6))\n",
        "\n",
        "# Plot 1: Score distribution\n",
        "plt.subplot(1, 2, 1)\n",
        "sns.histplot(genuine_scores, color='green', label='Genuine (User 1)', alpha=0.7, kde=True)\n",
        "sns.histplot(imposter_scores, color='red', label='Imposters', alpha=0.7, kde=True)\n",
        "plt.axvline(x=threshold, color='black', linestyle='--', label=f'Threshold ({threshold})')\n",
        "plt.xlabel('Similarity Score')\n",
        "plt.ylabel('Frequency')\n",
        "plt.title('Score Distribution')\n",
        "plt.legend()\n",
        "\n",
        "# Plot 2: ROC Curve (simplified)\n",
        "plt.subplot(1, 2, 2)\n",
        "thresholds = np.linspace(0, 1, 100)\n",
        "true_acceptance_rates = []\n",
        "false_acceptance_rates = []\n",
        "\n",
        "for t in thresholds:\n",
        "    # True Acceptance Rate (genuine users correctly accepted)\n",
        "    tar = sum(1 for score in genuine_scores if score >= t) / len(genuine_scores)\n",
        "\n",
        "    # False Acceptance Rate (imposters incorrectly accepted)\n",
        "    far = sum(1 for score in imposter_scores if score >= t) / len(imposter_scores)\n",
        "\n",
        "    true_acceptance_rates.append(tar)\n",
        "    false_acceptance_rates.append(far)\n",
        "\n",
        "plt.plot(false_acceptance_rates, true_acceptance_rates, 'b-', linewidth=2)\n",
        "plt.plot([0, 1], [0, 1], 'k--', alpha=0.5)  # Random classifier line\n",
        "plt.xlabel('False Acceptance Rate (FAR)')\n",
        "plt.ylabel('True Acceptance Rate (TAR)')\n",
        "plt.title('ROC Curve')\n",
        "plt.grid(True)\n",
        "\n",
        "plt.tight_layout()\n",
        "plt.show()"
      ],
      "metadata": {
        "colab": {
          "base_uri": "https://localhost:8080/",
          "height": 607
        },
        "id": "1yg_0S5b6Y72",
        "outputId": "71c3822b-11c8-46dc-cc63-c6e841f44c25"
      },
      "execution_count": 25,
      "outputs": [
        {
          "output_type": "display_data",
          "data": {
            "text/plain": [
              "<Figure size 1200x600 with 2 Axes>"
            ],
            "image/png": "[encoded data removed]"
          },
          "metadata": {}
        }
      ]
    },
    {
      "cell_type": "code",
      "source": [
        "from sklearn.metrics import accuracy_score, precision_score, recall_score, f1_score, confusion_matrix\n",
        "\n",
        "def evaluate_performance(scores, genuine_user=\"1\", threshold=0.95):\n",
        "    true_labels = []\n",
        "    predictions = []\n",
        "\n",
        "    for user_id, score in scores:\n",
        "        # Ground truth\n",
        "        true_label = 1 if user_id == genuine_user else 0\n",
        "        true_labels.append(true_label)\n",
        "\n",
        "        # Prediction based on threshold\n",
        "        pred = 1 if score >= threshold else 0\n",
        "        predictions.append(pred)\n",
        "\n",
        "    # Calculate metrics\n",
        "    acc = accuracy_score(true_labels, predictions)\n",
        "    prec = precision_score(true_labels, predictions, zero_division=0)\n",
        "    rec = recall_score(true_labels, predictions, zero_division=0)\n",
        "    f1 = f1_score(true_labels, predictions, zero_division=0)\n",
        "    cm = confusion_matrix(true_labels, predictions)\n",
        "\n",
        "    print(\"\\n=== Performance Metrics ===\")\n",
        "    print(f\"Accuracy: {acc:.4f}\")\n",
        "    print(f\"Precision: {prec:.4f}\")\n",
        "    print(f\"Recall: {rec:.4f}\")\n",
        "    print(f\"F1-Score: {f1:.4f}\")\n",
        "\n",
        "    print(\"\\nConfusion Matrix:\")\n",
        "    print(cm)\n",
        "\n",
        "    return acc, prec, rec, f1, cm\n",
        "\n",
        "\n",
        "# Example usage\n",
        "acc, prec, rec, f1, cm = evaluate_performance(scores, genuine_user=\"1\", threshold=0.95)\n"
      ],
      "metadata": {
        "colab": {
          "base_uri": "https://localhost:8080/"
        },
        "id": "0DOSPsaT5iR7",
        "outputId": "f4e846cd-6677-4c49-bac2-3153900e4d3e"
      },
      "execution_count": 26,
      "outputs": [
        {
          "output_type": "stream",
          "name": "stdout",
          "text": [
            "\n",
            "=== Performance Metrics ===\n",
            "Accuracy: 0.8395\n",
            "Precision: 0.0317\n",
            "Recall: 0.2000\n",
            "F1-Score: 0.0548\n",
            "\n",
            "Confusion Matrix:\n",
            "[[359  61]\n",
            " [  8   2]]\n"
          ]
        }
      ]
    },
    {
      "cell_type": "code",
      "source": [
        "import numpy as np\n",
        "from sklearn.metrics import accuracy_score, precision_score, recall_score, f1_score, confusion_matrix\n",
        "\n",
        "def evaluate_thresholds(scores, thresholds=np.linspace(0.5, 0.99, 20)):\n",
        "    \"\"\"\n",
        "    Sweep over thresholds and compute performance metrics for cosine similarity.\n",
        "    scores: list of tuples (uid, similarity)\n",
        "    thresholds: list or numpy array of thresholds\n",
        "    \"\"\"\n",
        "    results = []\n",
        "\n",
        "    # Prepare true labels\n",
        "    true_labels = [1 if uid == \"1\" else 0 for uid, score in scores]\n",
        "    similarities = [score for uid, score in scores]\n",
        "\n",
        "    for thresh in thresholds:\n",
        "        predictions = [1 if sim >= thresh else 0 for sim in similarities]\n",
        "\n",
        "        acc = accuracy_score(true_labels, predictions)\n",
        "        prec = precision_score(true_labels, predictions, zero_division=0)\n",
        "        rec = recall_score(true_labels, predictions, zero_division=0)\n",
        "        f1 = f1_score(true_labels, predictions, zero_division=0)\n",
        "        cm = confusion_matrix(true_labels, predictions)\n",
        "\n",
        "        results.append({\n",
        "            \"Threshold\": round(thresh, 4),\n",
        "            \"Accuracy\": acc,\n",
        "            \"Precision\": prec,\n",
        "            \"Recall\": rec,\n",
        "            \"F1-Score\": f1,\n",
        "            \"ConfusionMatrix\": cm.tolist()\n",
        "        })\n",
        "\n",
        "    return results\n",
        "\n",
        "\n",
        "# ✅ Example usage:\n",
        "cosine_results = evaluate_thresholds(scores, thresholds=np.linspace(0.5, 0.99, 10))\n",
        "\n",
        "# Print the best few results\n",
        "for res in cosine_results:\n",
        "    print(f\"Threshold: {res['Threshold']}, Acc: {res['Accuracy']:.4f}, \"\n",
        "          f\"Prec: {res['Precision']:.4f}, Rec: {res['Recall']:.4f}, \"\n",
        "          f\"F1: {res['F1-Score']:.4f}, CM: {res['ConfusionMatrix']}\")\n"
      ],
      "metadata": {
        "colab": {
          "base_uri": "https://localhost:8080/"
        },
        "id": "i6PYfnBuD_xD",
        "outputId": "8ae127a2-28d4-4f75-8f5a-0dfdef7e56c8"
      },
      "execution_count": 28,
      "outputs": [
        {
          "output_type": "stream",
          "name": "stdout",
          "text": [
            "Threshold: 0.5, Acc: 0.0837, Prec: 0.0176, Rec: 0.7000, F1: 0.0343, CM: [[29, 391], [3, 7]]\n",
            "Threshold: 0.5544, Acc: 0.1465, Prec: 0.0136, Rec: 0.5000, F1: 0.0265, CM: [[58, 362], [5, 5]]\n",
            "Threshold: 0.6089, Acc: 0.2605, Prec: 0.0096, Rec: 0.3000, F1: 0.0185, CM: [[109, 311], [7, 3]]\n",
            "Threshold: 0.6633, Acc: 0.3535, Prec: 0.0109, Rec: 0.3000, F1: 0.0211, CM: [[149, 271], [7, 3]]\n",
            "Threshold: 0.7178, Acc: 0.4628, Prec: 0.0132, Rec: 0.3000, F1: 0.0253, CM: [[196, 224], [7, 3]]\n",
            "Threshold: 0.7722, Acc: 0.5558, Prec: 0.0108, Rec: 0.2000, F1: 0.0205, CM: [[237, 183], [8, 2]]\n",
            "Threshold: 0.8267, Acc: 0.6233, Prec: 0.0128, Rec: 0.2000, F1: 0.0241, CM: [[266, 154], [8, 2]]\n",
            "Threshold: 0.8811, Acc: 0.7186, Prec: 0.0174, Rec: 0.2000, F1: 0.0320, CM: [[307, 113], [8, 2]]\n",
            "Threshold: 0.9356, Acc: 0.8023, Prec: 0.0253, Rec: 0.2000, F1: 0.0449, CM: [[343, 77], [8, 2]]\n",
            "Threshold: 0.99, Acc: 0.9488, Prec: 0.0000, Rec: 0.0000, F1: 0.0000, CM: [[408, 12], [10, 0]]\n"
          ]
        }
      ]
    }
  ]
}