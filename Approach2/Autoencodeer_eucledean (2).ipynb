{
  "nbformat": 4,
  "nbformat_minor": 0,
  "metadata": {
    "colab": {
      "provenance": []
    },
    "kernelspec": {
      "name": "python3",
      "display_name": "Python 3"
    },
    "language_info": {
      "name": "python"
    }
  },
  "cells": [
    {
      "cell_type": "code",
      "source": [
        "!pip install tenseal scikit-learn"
      ],
      "metadata": {
        "colab": {
          "base_uri": "https://localhost:8080/"
        },
        "id": "jYjJkD4n-h1J",
        "outputId": "7c8cf0c5-219b-4be6-c627-e8b8b3be32b5"
      },
      "execution_count": 1,
      "outputs": [
        {
          "output_type": "stream",
          "name": "stdout",
          "text": [
            "Collecting tenseal\n",
            "  Downloading tenseal-0.3.16-cp312-cp312-manylinux_2_27_x86_64.manylinux_2_28_x86_64.whl.metadata (8.4 kB)\n",
            "Requirement already satisfied: scikit-learn in /usr/local/lib/python3.12/dist-packages (1.6.1)\n",
            "Requirement already satisfied: numpy>=1.19.5 in /usr/local/lib/python3.12/dist-packages (from scikit-learn) (2.0.2)\n",
            "Requirement already satisfied: scipy>=1.6.0 in /usr/local/lib/python3.12/dist-packages (from scikit-learn) (1.16.1)\n",
            "Requirement already satisfied: joblib>=1.2.0 in /usr/local/lib/python3.12/dist-packages (from scikit-learn) (1.5.2)\n",
            "Requirement already satisfied: threadpoolctl>=3.1.0 in /usr/local/lib/python3.12/dist-packages (from scikit-learn) (3.6.0)\n",
            "Downloading tenseal-0.3.16-cp312-cp312-manylinux_2_27_x86_64.manylinux_2_28_x86_64.whl (4.8 MB)\n",
            "\u001b[2K   \u001b[90m━━━━━━━━━━━━━━━━━━━━━━━━━━━━━━━━━━━━━━━━\u001b[0m \u001b[32m4.8/4.8 MB\u001b[0m \u001b[31m36.4 MB/s\u001b[0m eta \u001b[36m0:00:00\u001b[0m\n",
            "\u001b[?25hInstalling collected packages: tenseal\n",
            "Successfully installed tenseal-0.3.16\n"
          ]
        }
      ]
    },
    {
      "cell_type": "code",
      "source": [],
      "metadata": {
        "id": "ncTP2YU3-ogV"
      },
      "execution_count": null,
      "outputs": []
    },
    {
      "cell_type": "code",
      "execution_count": 2,
      "metadata": {
        "id": "7MjTvoN3-PQ3"
      },
      "outputs": [],
      "source": [
        "import numpy as np\n",
        "import json\n",
        "from google.colab import files\n",
        "from sklearn.preprocessing import StandardScaler\n",
        "from sklearn.model_selection import train_test_split\n",
        "import tensorflow as tf\n",
        "from tensorflow import keras\n",
        "from tensorflow.keras import layers\n",
        "import tenseal as ts\n",
        "import matplotlib.pyplot as plt"
      ]
    },
    {
      "cell_type": "code",
      "source": [
        "# Upload and load the data\n",
        "uploaded = files.upload()\n",
        "filename = list(uploaded.keys())[0]\n",
        "\n",
        "with open(filename, \"r\") as f:\n",
        "    data = json.load(f)"
      ],
      "metadata": {
        "colab": {
          "base_uri": "https://localhost:8080/",
          "height": 73
        },
        "id": "Hb2UwGZ3_LZ2",
        "outputId": "aafb039a-0e24-4862-a18d-22ea30ea0537"
      },
      "execution_count": 23,
      "outputs": [
        {
          "output_type": "display_data",
          "data": {
            "text/plain": [
              "<IPython.core.display.HTML object>"
            ],
            "text/html": [
              "\n",
              "     <input type=\"file\" id=\"files-27143f8a-4b9e-49cc-8712-6ba9e894eda1\" name=\"files[]\" multiple disabled\n",
              "        style=\"border:none\" />\n",
              "     <output id=\"result-27143f8a-4b9e-49cc-8712-6ba9e894eda1\">\n",
              "      Upload widget is only available when the cell has been executed in the\n",
              "      current browser session. Please rerun this cell to enable.\n",
              "      </output>\n",
              "      <script>// Copyright 2017 Google LLC\n",
              "//\n",
              "// Licensed under the Apache License, Version 2.0 (the \"License\");\n",
              "// you may not use this file except in compliance with the License.\n",
              "// You may obtain a copy of the License at\n",
              "//\n",
              "//      http://www.apache.org/licenses/LICENSE-2.0\n",
              "//\n",
              "// Unless required by applicable law or agreed to in writing, software\n",
              "// distributed under the License is distributed on an \"AS IS\" BASIS,\n",
              "// WITHOUT WARRANTIES OR CONDITIONS OF ANY KIND, either express or implied.\n",
              "// See the License for the specific language governing permissions and\n",
              "// limitations under the License.\n",
              "\n",
              "/**\n",
              " * @fileoverview Helpers for google.colab Python module.\n",
              " */\n",
              "(function(scope) {\n",
              "function span(text, styleAttributes = {}) {\n",
              "  const element = document.createElement('span');\n",
              "  element.textContent = text;\n",
              "  for (const key of Object.keys(styleAttributes)) {\n",
              "    element.style[key] = styleAttributes[key];\n",
              "  }\n",
              "  return element;\n",
              "}\n",
              "\n",
              "// Max number of bytes which will be uploaded at a time.\n",
              "const MAX_PAYLOAD_SIZE = 100 * 1024;\n",
              "\n",
              "function _uploadFiles(inputId, outputId) {\n",
              "  const steps = uploadFilesStep(inputId, outputId);\n",
              "  const outputElement = document.getElementById(outputId);\n",
              "  // Cache steps on the outputElement to make it available for the next call\n",
              "  // to uploadFilesContinue from Python.\n",
              "  outputElement.steps = steps;\n",
              "\n",
              "  return _uploadFilesContinue(outputId);\n",
              "}\n",
              "\n",
              "// This is roughly an async generator (not supported in the browser yet),\n",
              "// where there are multiple asynchronous steps and the Python side is going\n",
              "// to poll for completion of each step.\n",
              "// This uses a Promise to block the python side on completion of each step,\n",
              "// then passes the result of the previous step as the input to the next step.\n",
              "function _uploadFilesContinue(outputId) {\n",
              "  const outputElement = document.getElementById(outputId);\n",
              "  const steps = outputElement.steps;\n",
              "\n",
              "  const next = steps.next(outputElement.lastPromiseValue);\n",
              "  return Promise.resolve(next.value.promise).then((value) => {\n",
              "    // Cache the last promise value to make it available to the next\n",
              "    // step of the generator.\n",
              "    outputElement.lastPromiseValue = value;\n",
              "    return next.value.response;\n",
              "  });\n",
              "}\n",
              "\n",
              "/**\n",
              " * Generator function which is called between each async step of the upload\n",
              " * process.\n",
              " * @param {string} inputId Element ID of the input file picker element.\n",
              " * @param {string} outputId Element ID of the output display.\n",
              " * @return {!Iterable<!Object>} Iterable of next steps.\n",
              " */\n",
              "function* uploadFilesStep(inputId, outputId) {\n",
              "  const inputElement = document.getElementById(inputId);\n",
              "  inputElement.disabled = false;\n",
              "\n",
              "  const outputElement = document.getElementById(outputId);\n",
              "  outputElement.innerHTML = '';\n",
              "\n",
              "  const pickedPromise = new Promise((resolve) => {\n",
              "    inputElement.addEventListener('change', (e) => {\n",
              "      resolve(e.target.files);\n",
              "    });\n",
              "  });\n",
              "\n",
              "  const cancel = document.createElement('button');\n",
              "  inputElement.parentElement.appendChild(cancel);\n",
              "  cancel.textContent = 'Cancel upload';\n",
              "  const cancelPromise = new Promise((resolve) => {\n",
              "    cancel.onclick = () => {\n",
              "      resolve(null);\n",
              "    };\n",
              "  });\n",
              "\n",
              "  // Wait for the user to pick the files.\n",
              "  const files = yield {\n",
              "    promise: Promise.race([pickedPromise, cancelPromise]),\n",
              "    response: {\n",
              "      action: 'starting',\n",
              "    }\n",
              "  };\n",
              "\n",
              "  cancel.remove();\n",
              "\n",
              "  // Disable the input element since further picks are not allowed.\n",
              "  inputElement.disabled = true;\n",
              "\n",
              "  if (!files) {\n",
              "    return {\n",
              "      response: {\n",
              "        action: 'complete',\n",
              "      }\n",
              "    };\n",
              "  }\n",
              "\n",
              "  for (const file of files) {\n",
              "    const li = document.createElement('li');\n",
              "    li.append(span(file.name, {fontWeight: 'bold'}));\n",
              "    li.append(span(\n",
              "        `(${file.type || 'n/a'}) - ${file.size} bytes, ` +\n",
              "        `last modified: ${\n",
              "            file.lastModifiedDate ? file.lastModifiedDate.toLocaleDateString() :\n",
              "                                    'n/a'} - `));\n",
              "    const percent = span('0% done');\n",
              "    li.appendChild(percent);\n",
              "\n",
              "    outputElement.appendChild(li);\n",
              "\n",
              "    const fileDataPromise = new Promise((resolve) => {\n",
              "      const reader = new FileReader();\n",
              "      reader.onload = (e) => {\n",
              "        resolve(e.target.result);\n",
              "      };\n",
              "      reader.readAsArrayBuffer(file);\n",
              "    });\n",
              "    // Wait for the data to be ready.\n",
              "    let fileData = yield {\n",
              "      promise: fileDataPromise,\n",
              "      response: {\n",
              "        action: 'continue',\n",
              "      }\n",
              "    };\n",
              "\n",
              "    // Use a chunked sending to avoid message size limits. See b/62115660.\n",
              "    let position = 0;\n",
              "    do {\n",
              "      const length = Math.min(fileData.byteLength - position, MAX_PAYLOAD_SIZE);\n",
              "      const chunk = new Uint8Array(fileData, position, length);\n",
              "      position += length;\n",
              "\n",
              "      const base64 = btoa(String.fromCharCode.apply(null, chunk));\n",
              "      yield {\n",
              "        response: {\n",
              "          action: 'append',\n",
              "          file: file.name,\n",
              "          data: base64,\n",
              "        },\n",
              "      };\n",
              "\n",
              "      let percentDone = fileData.byteLength === 0 ?\n",
              "          100 :\n",
              "          Math.round((position / fileData.byteLength) * 100);\n",
              "      percent.textContent = `${percentDone}% done`;\n",
              "\n",
              "    } while (position < fileData.byteLength);\n",
              "  }\n",
              "\n",
              "  // All done.\n",
              "  yield {\n",
              "    response: {\n",
              "      action: 'complete',\n",
              "    }\n",
              "  };\n",
              "}\n",
              "\n",
              "scope.google = scope.google || {};\n",
              "scope.google.colab = scope.google.colab || {};\n",
              "scope.google.colab._files = {\n",
              "  _uploadFiles,\n",
              "  _uploadFilesContinue,\n",
              "};\n",
              "})(self);\n",
              "</script> "
            ]
          },
          "metadata": {}
        },
        {
          "output_type": "stream",
          "name": "stdout",
          "text": [
            "Saving IITD.json to IITD.json\n"
          ]
        }
      ]
    },
    {
      "cell_type": "code",
      "source": [
        "# Extract all feature vectors\n",
        "all_features = []\n",
        "user_ids = []\n",
        "for user_id, user_data in data.items():\n",
        "    for feature_vec in user_data[\"features\"]:\n",
        "        all_features.append(feature_vec)\n",
        "        user_ids.append(user_id)\n",
        "\n",
        "all_features = np.array(all_features)\n",
        "print(f\"Total feature vectors: {all_features.shape}\")"
      ],
      "metadata": {
        "colab": {
          "base_uri": "https://localhost:8080/"
        },
        "id": "dqBGwhFE_SSV",
        "outputId": "9b3538e5-cad8-4798-fa70-f7a9877f5190"
      },
      "execution_count": 33,
      "outputs": [
        {
          "output_type": "stream",
          "name": "stdout",
          "text": [
            "Total feature vectors: (2230, 5)\n"
          ]
        }
      ]
    },
    {
      "cell_type": "code",
      "source": [
        "# Standardize the data\n",
        "scaler = StandardScaler()\n",
        "scaled_features = scaler.fit_transform(all_features)\n",
        "\n",
        "# Split data into train and test\n",
        "X_train, X_test = train_test_split(scaled_features, test_size=0.2, random_state=42)\n",
        "\n",
        "# Autoencoder architecture\n",
        "input_dim = X_train.shape[1]  # 5 dimensions\n",
        "encoding_dim = 3  # Compress to 3 dimensions"
      ],
      "metadata": {
        "id": "lc-9DZG7_Tpe"
      },
      "execution_count": 35,
      "outputs": []
    },
    {
      "cell_type": "code",
      "source": [
        "# Build the autoencoder\n",
        "input_layer = layers.Input(shape=(input_dim,))\n",
        "encoder = layers.Dense(encoding_dim * 2, activation='relu')(input_layer)\n",
        "encoder = layers.Dense(encoding_dim, activation='relu')(encoder)\n",
        "\n",
        "decoder = layers.Dense(encoding_dim * 2, activation='relu')(encoder)\n",
        "decoder = layers.Dense(input_dim, activation='linear')(decoder)\n",
        "\n",
        "autoencoder = keras.Model(inputs=input_layer, outputs=decoder)\n",
        "autoencoder.compile(optimizer='adam', loss='mse')"
      ],
      "metadata": {
        "id": "APVTjrQh_eku"
      },
      "execution_count": 36,
      "outputs": []
    },
    {
      "cell_type": "code",
      "source": [
        "# Train the autoencoder\n",
        "history = autoencoder.fit(\n",
        "    X_train, X_train,\n",
        "    epochs=100,\n",
        "    batch_size=16,\n",
        "    shuffle=True,\n",
        "    validation_data=(X_test, X_test),\n",
        "    verbose=1\n",
        ")"
      ],
      "metadata": {
        "colab": {
          "base_uri": "https://localhost:8080/"
        },
        "id": "eZfMayik_fwl",
        "outputId": "f7d866f0-5f61-4361-9f24-7c67c2a95323"
      },
      "execution_count": 37,
      "outputs": [
        {
          "output_type": "stream",
          "name": "stdout",
          "text": [
            "Epoch 1/100\n",
            "\u001b[1m112/112\u001b[0m \u001b[32m━━━━━━━━━━━━━━━━━━━━\u001b[0m\u001b[37m\u001b[0m \u001b[1m2s\u001b[0m 5ms/step - loss: 1.1003 - val_loss: 0.8064\n",
            "Epoch 2/100\n",
            "\u001b[1m112/112\u001b[0m \u001b[32m━━━━━━━━━━━━━━━━━━━━\u001b[0m\u001b[37m\u001b[0m \u001b[1m0s\u001b[0m 3ms/step - loss: 0.8939 - val_loss: 0.7109\n",
            "Epoch 3/100\n",
            "\u001b[1m112/112\u001b[0m \u001b[32m━━━━━━━━━━━━━━━━━━━━\u001b[0m\u001b[37m\u001b[0m \u001b[1m0s\u001b[0m 3ms/step - loss: 0.8387 - val_loss: 0.6240\n",
            "Epoch 4/100\n",
            "\u001b[1m112/112\u001b[0m \u001b[32m━━━━━━━━━━━━━━━━━━━━\u001b[0m\u001b[37m\u001b[0m \u001b[1m1s\u001b[0m 3ms/step - loss: 0.6993 - val_loss: 0.5579\n",
            "Epoch 5/100\n",
            "\u001b[1m112/112\u001b[0m \u001b[32m━━━━━━━━━━━━━━━━━━━━\u001b[0m\u001b[37m\u001b[0m \u001b[1m1s\u001b[0m 4ms/step - loss: 0.7674 - val_loss: 0.5259\n",
            "Epoch 6/100\n",
            "\u001b[1m112/112\u001b[0m \u001b[32m━━━━━━━━━━━━━━━━━━━━\u001b[0m\u001b[37m\u001b[0m \u001b[1m0s\u001b[0m 3ms/step - loss: 0.6649 - val_loss: 0.5037\n",
            "Epoch 7/100\n",
            "\u001b[1m112/112\u001b[0m \u001b[32m━━━━━━━━━━━━━━━━━━━━\u001b[0m\u001b[37m\u001b[0m \u001b[1m0s\u001b[0m 3ms/step - loss: 0.5779 - val_loss: 0.4856\n",
            "Epoch 8/100\n",
            "\u001b[1m112/112\u001b[0m \u001b[32m━━━━━━━━━━━━━━━━━━━━\u001b[0m\u001b[37m\u001b[0m \u001b[1m0s\u001b[0m 3ms/step - loss: 0.6595 - val_loss: 0.4719\n",
            "Epoch 9/100\n",
            "\u001b[1m112/112\u001b[0m \u001b[32m━━━━━━━━━━━━━━━━━━━━\u001b[0m\u001b[37m\u001b[0m \u001b[1m0s\u001b[0m 3ms/step - loss: 0.5884 - val_loss: 0.4610\n",
            "Epoch 10/100\n",
            "\u001b[1m112/112\u001b[0m \u001b[32m━━━━━━━━━━━━━━━━━━━━\u001b[0m\u001b[37m\u001b[0m \u001b[1m0s\u001b[0m 3ms/step - loss: 0.5135 - val_loss: 0.4529\n",
            "Epoch 11/100\n",
            "\u001b[1m112/112\u001b[0m \u001b[32m━━━━━━━━━━━━━━━━━━━━\u001b[0m\u001b[37m\u001b[0m \u001b[1m0s\u001b[0m 4ms/step - loss: 0.4838 - val_loss: 0.4450\n",
            "Epoch 12/100\n",
            "\u001b[1m112/112\u001b[0m \u001b[32m━━━━━━━━━━━━━━━━━━━━\u001b[0m\u001b[37m\u001b[0m \u001b[1m1s\u001b[0m 5ms/step - loss: 0.6214 - val_loss: 0.4386\n",
            "Epoch 13/100\n",
            "\u001b[1m112/112\u001b[0m \u001b[32m━━━━━━━━━━━━━━━━━━━━\u001b[0m\u001b[37m\u001b[0m \u001b[1m1s\u001b[0m 5ms/step - loss: 0.5123 - val_loss: 0.4325\n",
            "Epoch 14/100\n",
            "\u001b[1m112/112\u001b[0m \u001b[32m━━━━━━━━━━━━━━━━━━━━\u001b[0m\u001b[37m\u001b[0m \u001b[1m0s\u001b[0m 3ms/step - loss: 0.5610 - val_loss: 0.4273\n",
            "Epoch 15/100\n",
            "\u001b[1m112/112\u001b[0m \u001b[32m━━━━━━━━━━━━━━━━━━━━\u001b[0m\u001b[37m\u001b[0m \u001b[1m1s\u001b[0m 3ms/step - loss: 0.5100 - val_loss: 0.4218\n",
            "Epoch 16/100\n",
            "\u001b[1m112/112\u001b[0m \u001b[32m━━━━━━━━━━━━━━━━━━━━\u001b[0m\u001b[37m\u001b[0m \u001b[1m0s\u001b[0m 3ms/step - loss: 0.6253 - val_loss: 0.4178\n",
            "Epoch 17/100\n",
            "\u001b[1m112/112\u001b[0m \u001b[32m━━━━━━━━━━━━━━━━━━━━\u001b[0m\u001b[37m\u001b[0m \u001b[1m1s\u001b[0m 3ms/step - loss: 0.6857 - val_loss: 0.4130\n",
            "Epoch 18/100\n",
            "\u001b[1m112/112\u001b[0m \u001b[32m━━━━━━━━━━━━━━━━━━━━\u001b[0m\u001b[37m\u001b[0m \u001b[1m0s\u001b[0m 3ms/step - loss: 0.4943 - val_loss: 0.4034\n",
            "Epoch 19/100\n",
            "\u001b[1m112/112\u001b[0m \u001b[32m━━━━━━━━━━━━━━━━━━━━\u001b[0m\u001b[37m\u001b[0m \u001b[1m1s\u001b[0m 3ms/step - loss: 0.4928 - val_loss: 0.3818\n",
            "Epoch 20/100\n",
            "\u001b[1m112/112\u001b[0m \u001b[32m━━━━━━━━━━━━━━━━━━━━\u001b[0m\u001b[37m\u001b[0m \u001b[1m1s\u001b[0m 3ms/step - loss: 0.4242 - val_loss: 0.3385\n",
            "Epoch 21/100\n",
            "\u001b[1m112/112\u001b[0m \u001b[32m━━━━━━━━━━━━━━━━━━━━\u001b[0m\u001b[37m\u001b[0m \u001b[1m0s\u001b[0m 4ms/step - loss: 0.4125 - val_loss: 0.2889\n",
            "Epoch 22/100\n",
            "\u001b[1m112/112\u001b[0m \u001b[32m━━━━━━━━━━━━━━━━━━━━\u001b[0m\u001b[37m\u001b[0m \u001b[1m1s\u001b[0m 3ms/step - loss: 0.3099 - val_loss: 0.2518\n",
            "Epoch 23/100\n",
            "\u001b[1m112/112\u001b[0m \u001b[32m━━━━━━━━━━━━━━━━━━━━\u001b[0m\u001b[37m\u001b[0m \u001b[1m0s\u001b[0m 4ms/step - loss: 0.3935 - val_loss: 0.2319\n",
            "Epoch 24/100\n",
            "\u001b[1m112/112\u001b[0m \u001b[32m━━━━━━━━━━━━━━━━━━━━\u001b[0m\u001b[37m\u001b[0m \u001b[1m0s\u001b[0m 3ms/step - loss: 0.3284 - val_loss: 0.2201\n",
            "Epoch 25/100\n",
            "\u001b[1m112/112\u001b[0m \u001b[32m━━━━━━━━━━━━━━━━━━━━\u001b[0m\u001b[37m\u001b[0m \u001b[1m1s\u001b[0m 3ms/step - loss: 0.2782 - val_loss: 0.2127\n",
            "Epoch 26/100\n",
            "\u001b[1m112/112\u001b[0m \u001b[32m━━━━━━━━━━━━━━━━━━━━\u001b[0m\u001b[37m\u001b[0m \u001b[1m1s\u001b[0m 3ms/step - loss: 0.3057 - val_loss: 0.2079\n",
            "Epoch 27/100\n",
            "\u001b[1m112/112\u001b[0m \u001b[32m━━━━━━━━━━━━━━━━━━━━\u001b[0m\u001b[37m\u001b[0m \u001b[1m0s\u001b[0m 3ms/step - loss: 0.2630 - val_loss: 0.2038\n",
            "Epoch 28/100\n",
            "\u001b[1m112/112\u001b[0m \u001b[32m━━━━━━━━━━━━━━━━━━━━\u001b[0m\u001b[37m\u001b[0m \u001b[1m0s\u001b[0m 3ms/step - loss: 0.2742 - val_loss: 0.2000\n",
            "Epoch 29/100\n",
            "\u001b[1m112/112\u001b[0m \u001b[32m━━━━━━━━━━━━━━━━━━━━\u001b[0m\u001b[37m\u001b[0m \u001b[1m1s\u001b[0m 3ms/step - loss: 0.2987 - val_loss: 0.2010\n",
            "Epoch 30/100\n",
            "\u001b[1m112/112\u001b[0m \u001b[32m━━━━━━━━━━━━━━━━━━━━\u001b[0m\u001b[37m\u001b[0m \u001b[1m1s\u001b[0m 3ms/step - loss: 0.3382 - val_loss: 0.1952\n",
            "Epoch 31/100\n",
            "\u001b[1m112/112\u001b[0m \u001b[32m━━━━━━━━━━━━━━━━━━━━\u001b[0m\u001b[37m\u001b[0m \u001b[1m1s\u001b[0m 3ms/step - loss: 0.2732 - val_loss: 0.1939\n",
            "Epoch 32/100\n",
            "\u001b[1m112/112\u001b[0m \u001b[32m━━━━━━━━━━━━━━━━━━━━\u001b[0m\u001b[37m\u001b[0m \u001b[1m1s\u001b[0m 3ms/step - loss: 0.2531 - val_loss: 0.1933\n",
            "Epoch 33/100\n",
            "\u001b[1m112/112\u001b[0m \u001b[32m━━━━━━━━━━━━━━━━━━━━\u001b[0m\u001b[37m\u001b[0m \u001b[1m1s\u001b[0m 5ms/step - loss: 0.3015 - val_loss: 0.1941\n",
            "Epoch 34/100\n",
            "\u001b[1m112/112\u001b[0m \u001b[32m━━━━━━━━━━━━━━━━━━━━\u001b[0m\u001b[37m\u001b[0m \u001b[1m1s\u001b[0m 5ms/step - loss: 0.3090 - val_loss: 0.1934\n",
            "Epoch 35/100\n",
            "\u001b[1m112/112\u001b[0m \u001b[32m━━━━━━━━━━━━━━━━━━━━\u001b[0m\u001b[37m\u001b[0m \u001b[1m1s\u001b[0m 3ms/step - loss: 0.2999 - val_loss: 0.1917\n",
            "Epoch 36/100\n",
            "\u001b[1m112/112\u001b[0m \u001b[32m━━━━━━━━━━━━━━━━━━━━\u001b[0m\u001b[37m\u001b[0m \u001b[1m1s\u001b[0m 3ms/step - loss: 0.2939 - val_loss: 0.1917\n",
            "Epoch 37/100\n",
            "\u001b[1m112/112\u001b[0m \u001b[32m━━━━━━━━━━━━━━━━━━━━\u001b[0m\u001b[37m\u001b[0m \u001b[1m0s\u001b[0m 3ms/step - loss: 0.2847 - val_loss: 0.1942\n",
            "Epoch 38/100\n",
            "\u001b[1m112/112\u001b[0m \u001b[32m━━━━━━━━━━━━━━━━━━━━\u001b[0m\u001b[37m\u001b[0m \u001b[1m1s\u001b[0m 3ms/step - loss: 0.3158 - val_loss: 0.1905\n",
            "Epoch 39/100\n",
            "\u001b[1m112/112\u001b[0m \u001b[32m━━━━━━━━━━━━━━━━━━━━\u001b[0m\u001b[37m\u001b[0m \u001b[1m1s\u001b[0m 3ms/step - loss: 0.2436 - val_loss: 0.1909\n",
            "Epoch 40/100\n",
            "\u001b[1m112/112\u001b[0m \u001b[32m━━━━━━━━━━━━━━━━━━━━\u001b[0m\u001b[37m\u001b[0m \u001b[1m1s\u001b[0m 3ms/step - loss: 0.2421 - val_loss: 0.1933\n",
            "Epoch 41/100\n",
            "\u001b[1m112/112\u001b[0m \u001b[32m━━━━━━━━━━━━━━━━━━━━\u001b[0m\u001b[37m\u001b[0m \u001b[1m0s\u001b[0m 3ms/step - loss: 0.2212 - val_loss: 0.1908\n",
            "Epoch 42/100\n",
            "\u001b[1m112/112\u001b[0m \u001b[32m━━━━━━━━━━━━━━━━━━━━\u001b[0m\u001b[37m\u001b[0m \u001b[1m0s\u001b[0m 3ms/step - loss: 0.2651 - val_loss: 0.1898\n",
            "Epoch 43/100\n",
            "\u001b[1m112/112\u001b[0m \u001b[32m━━━━━━━━━━━━━━━━━━━━\u001b[0m\u001b[37m\u001b[0m \u001b[1m1s\u001b[0m 3ms/step - loss: 0.3006 - val_loss: 0.1899\n",
            "Epoch 44/100\n",
            "\u001b[1m112/112\u001b[0m \u001b[32m━━━━━━━━━━━━━━━━━━━━\u001b[0m\u001b[37m\u001b[0m \u001b[1m1s\u001b[0m 3ms/step - loss: 0.2896 - val_loss: 0.1893\n",
            "Epoch 45/100\n",
            "\u001b[1m112/112\u001b[0m \u001b[32m━━━━━━━━━━━━━━━━━━━━\u001b[0m\u001b[37m\u001b[0m \u001b[1m1s\u001b[0m 3ms/step - loss: 0.2498 - val_loss: 0.1892\n",
            "Epoch 46/100\n",
            "\u001b[1m112/112\u001b[0m \u001b[32m━━━━━━━━━━━━━━━━━━━━\u001b[0m\u001b[37m\u001b[0m \u001b[1m1s\u001b[0m 3ms/step - loss: 0.2546 - val_loss: 0.1903\n",
            "Epoch 47/100\n",
            "\u001b[1m112/112\u001b[0m \u001b[32m━━━━━━━━━━━━━━━━━━━━\u001b[0m\u001b[37m\u001b[0m \u001b[1m0s\u001b[0m 3ms/step - loss: 0.3233 - val_loss: 0.1906\n",
            "Epoch 48/100\n",
            "\u001b[1m112/112\u001b[0m \u001b[32m━━━━━━━━━━━━━━━━━━━━\u001b[0m\u001b[37m\u001b[0m \u001b[1m1s\u001b[0m 3ms/step - loss: 0.2599 - val_loss: 0.1873\n",
            "Epoch 49/100\n",
            "\u001b[1m112/112\u001b[0m \u001b[32m━━━━━━━━━━━━━━━━━━━━\u001b[0m\u001b[37m\u001b[0m \u001b[1m0s\u001b[0m 3ms/step - loss: 0.2598 - val_loss: 0.1879\n",
            "Epoch 50/100\n",
            "\u001b[1m112/112\u001b[0m \u001b[32m━━━━━━━━━━━━━━━━━━━━\u001b[0m\u001b[37m\u001b[0m \u001b[1m1s\u001b[0m 3ms/step - loss: 0.2573 - val_loss: 0.1877\n",
            "Epoch 51/100\n",
            "\u001b[1m112/112\u001b[0m \u001b[32m━━━━━━━━━━━━━━━━━━━━\u001b[0m\u001b[37m\u001b[0m \u001b[1m0s\u001b[0m 3ms/step - loss: 0.3048 - val_loss: 0.1883\n",
            "Epoch 52/100\n",
            "\u001b[1m112/112\u001b[0m \u001b[32m━━━━━━━━━━━━━━━━━━━━\u001b[0m\u001b[37m\u001b[0m \u001b[1m1s\u001b[0m 3ms/step - loss: 0.3007 - val_loss: 0.1887\n",
            "Epoch 53/100\n",
            "\u001b[1m112/112\u001b[0m \u001b[32m━━━━━━━━━━━━━━━━━━━━\u001b[0m\u001b[37m\u001b[0m \u001b[1m0s\u001b[0m 4ms/step - loss: 0.2413 - val_loss: 0.1886\n",
            "Epoch 54/100\n",
            "\u001b[1m112/112\u001b[0m \u001b[32m━━━━━━━━━━━━━━━━━━━━\u001b[0m\u001b[37m\u001b[0m \u001b[1m1s\u001b[0m 5ms/step - loss: 0.2662 - val_loss: 0.1875\n",
            "Epoch 55/100\n",
            "\u001b[1m112/112\u001b[0m \u001b[32m━━━━━━━━━━━━━━━━━━━━\u001b[0m\u001b[37m\u001b[0m \u001b[1m1s\u001b[0m 5ms/step - loss: 0.2331 - val_loss: 0.1882\n",
            "Epoch 56/100\n",
            "\u001b[1m112/112\u001b[0m \u001b[32m━━━━━━━━━━━━━━━━━━━━\u001b[0m\u001b[37m\u001b[0m \u001b[1m0s\u001b[0m 4ms/step - loss: 0.2706 - val_loss: 0.1886\n",
            "Epoch 57/100\n",
            "\u001b[1m112/112\u001b[0m \u001b[32m━━━━━━━━━━━━━━━━━━━━\u001b[0m\u001b[37m\u001b[0m \u001b[1m1s\u001b[0m 4ms/step - loss: 0.2529 - val_loss: 0.1895\n",
            "Epoch 58/100\n",
            "\u001b[1m112/112\u001b[0m \u001b[32m━━━━━━━━━━━━━━━━━━━━\u001b[0m\u001b[37m\u001b[0m \u001b[1m0s\u001b[0m 3ms/step - loss: 0.2475 - val_loss: 0.1901\n",
            "Epoch 59/100\n",
            "\u001b[1m112/112\u001b[0m \u001b[32m━━━━━━━━━━━━━━━━━━━━\u001b[0m\u001b[37m\u001b[0m \u001b[1m0s\u001b[0m 3ms/step - loss: 0.2483 - val_loss: 0.1876\n",
            "Epoch 60/100\n",
            "\u001b[1m112/112\u001b[0m \u001b[32m━━━━━━━━━━━━━━━━━━━━\u001b[0m\u001b[37m\u001b[0m \u001b[1m0s\u001b[0m 3ms/step - loss: 0.2496 - val_loss: 0.1886\n",
            "Epoch 61/100\n",
            "\u001b[1m112/112\u001b[0m \u001b[32m━━━━━━━━━━━━━━━━━━━━\u001b[0m\u001b[37m\u001b[0m \u001b[1m1s\u001b[0m 3ms/step - loss: 0.2514 - val_loss: 0.1878\n",
            "Epoch 62/100\n",
            "\u001b[1m112/112\u001b[0m \u001b[32m━━━━━━━━━━━━━━━━━━━━\u001b[0m\u001b[37m\u001b[0m \u001b[1m0s\u001b[0m 3ms/step - loss: 0.2961 - val_loss: 0.1866\n",
            "Epoch 63/100\n",
            "\u001b[1m112/112\u001b[0m \u001b[32m━━━━━━━━━━━━━━━━━━━━\u001b[0m\u001b[37m\u001b[0m \u001b[1m1s\u001b[0m 3ms/step - loss: 0.2685 - val_loss: 0.1871\n",
            "Epoch 64/100\n",
            "\u001b[1m112/112\u001b[0m \u001b[32m━━━━━━━━━━━━━━━━━━━━\u001b[0m\u001b[37m\u001b[0m \u001b[1m1s\u001b[0m 3ms/step - loss: 0.2366 - val_loss: 0.1879\n",
            "Epoch 65/100\n",
            "\u001b[1m112/112\u001b[0m \u001b[32m━━━━━━━━━━━━━━━━━━━━\u001b[0m\u001b[37m\u001b[0m \u001b[1m0s\u001b[0m 3ms/step - loss: 0.2504 - val_loss: 0.1886\n",
            "Epoch 66/100\n",
            "\u001b[1m112/112\u001b[0m \u001b[32m━━━━━━━━━━━━━━━━━━━━\u001b[0m\u001b[37m\u001b[0m \u001b[1m0s\u001b[0m 3ms/step - loss: 0.2579 - val_loss: 0.1856\n",
            "Epoch 67/100\n",
            "\u001b[1m112/112\u001b[0m \u001b[32m━━━━━━━━━━━━━━━━━━━━\u001b[0m\u001b[37m\u001b[0m \u001b[1m0s\u001b[0m 3ms/step - loss: 0.2394 - val_loss: 0.1891\n",
            "Epoch 68/100\n",
            "\u001b[1m112/112\u001b[0m \u001b[32m━━━━━━━━━━━━━━━━━━━━\u001b[0m\u001b[37m\u001b[0m \u001b[1m1s\u001b[0m 3ms/step - loss: 0.2703 - val_loss: 0.1891\n",
            "Epoch 69/100\n",
            "\u001b[1m112/112\u001b[0m \u001b[32m━━━━━━━━━━━━━━━━━━━━\u001b[0m\u001b[37m\u001b[0m \u001b[1m1s\u001b[0m 3ms/step - loss: 0.2856 - val_loss: 0.1875\n",
            "Epoch 70/100\n",
            "\u001b[1m112/112\u001b[0m \u001b[32m━━━━━━━━━━━━━━━━━━━━\u001b[0m\u001b[37m\u001b[0m \u001b[1m1s\u001b[0m 3ms/step - loss: 0.2742 - val_loss: 0.1880\n",
            "Epoch 71/100\n",
            "\u001b[1m112/112\u001b[0m \u001b[32m━━━━━━━━━━━━━━━━━━━━\u001b[0m\u001b[37m\u001b[0m \u001b[1m1s\u001b[0m 3ms/step - loss: 0.2690 - val_loss: 0.1868\n",
            "Epoch 72/100\n",
            "\u001b[1m112/112\u001b[0m \u001b[32m━━━━━━━━━━━━━━━━━━━━\u001b[0m\u001b[37m\u001b[0m \u001b[1m1s\u001b[0m 3ms/step - loss: 0.2306 - val_loss: 0.1868\n",
            "Epoch 73/100\n",
            "\u001b[1m112/112\u001b[0m \u001b[32m━━━━━━━━━━━━━━━━━━━━\u001b[0m\u001b[37m\u001b[0m \u001b[1m1s\u001b[0m 3ms/step - loss: 0.2616 - val_loss: 0.1873\n",
            "Epoch 74/100\n",
            "\u001b[1m112/112\u001b[0m \u001b[32m━━━━━━━━━━━━━━━━━━━━\u001b[0m\u001b[37m\u001b[0m \u001b[1m0s\u001b[0m 3ms/step - loss: 0.2614 - val_loss: 0.1879\n",
            "Epoch 75/100\n",
            "\u001b[1m112/112\u001b[0m \u001b[32m━━━━━━━━━━━━━━━━━━━━\u001b[0m\u001b[37m\u001b[0m \u001b[1m1s\u001b[0m 5ms/step - loss: 0.2352 - val_loss: 0.1858\n",
            "Epoch 76/100\n",
            "\u001b[1m112/112\u001b[0m \u001b[32m━━━━━━━━━━━━━━━━━━━━\u001b[0m\u001b[37m\u001b[0m \u001b[1m1s\u001b[0m 5ms/step - loss: 0.2505 - val_loss: 0.1874\n",
            "Epoch 77/100\n",
            "\u001b[1m112/112\u001b[0m \u001b[32m━━━━━━━━━━━━━━━━━━━━\u001b[0m\u001b[37m\u001b[0m \u001b[1m1s\u001b[0m 5ms/step - loss: 0.2603 - val_loss: 0.1880\n",
            "Epoch 78/100\n",
            "\u001b[1m112/112\u001b[0m \u001b[32m━━━━━━━━━━━━━━━━━━━━\u001b[0m\u001b[37m\u001b[0m \u001b[1m1s\u001b[0m 3ms/step - loss: 0.2658 - val_loss: 0.1879\n",
            "Epoch 79/100\n",
            "\u001b[1m112/112\u001b[0m \u001b[32m━━━━━━━━━━━━━━━━━━━━\u001b[0m\u001b[37m\u001b[0m \u001b[1m1s\u001b[0m 3ms/step - loss: 0.2614 - val_loss: 0.1875\n",
            "Epoch 80/100\n",
            "\u001b[1m112/112\u001b[0m \u001b[32m━━━━━━━━━━━━━━━━━━━━\u001b[0m\u001b[37m\u001b[0m \u001b[1m1s\u001b[0m 4ms/step - loss: 0.2236 - val_loss: 0.1883\n",
            "Epoch 81/100\n",
            "\u001b[1m112/112\u001b[0m \u001b[32m━━━━━━━━━━━━━━━━━━━━\u001b[0m\u001b[37m\u001b[0m \u001b[1m1s\u001b[0m 3ms/step - loss: 0.2651 - val_loss: 0.1881\n",
            "Epoch 82/100\n",
            "\u001b[1m112/112\u001b[0m \u001b[32m━━━━━━━━━━━━━━━━━━━━\u001b[0m\u001b[37m\u001b[0m \u001b[1m1s\u001b[0m 3ms/step - loss: 0.2444 - val_loss: 0.1869\n",
            "Epoch 83/100\n",
            "\u001b[1m112/112\u001b[0m \u001b[32m━━━━━━━━━━━━━━━━━━━━\u001b[0m\u001b[37m\u001b[0m \u001b[1m0s\u001b[0m 4ms/step - loss: 0.2377 - val_loss: 0.1887\n",
            "Epoch 84/100\n",
            "\u001b[1m112/112\u001b[0m \u001b[32m━━━━━━━━━━━━━━━━━━━━\u001b[0m\u001b[37m\u001b[0m \u001b[1m0s\u001b[0m 3ms/step - loss: 0.2513 - val_loss: 0.1893\n",
            "Epoch 85/100\n",
            "\u001b[1m112/112\u001b[0m \u001b[32m━━━━━━━━━━━━━━━━━━━━\u001b[0m\u001b[37m\u001b[0m \u001b[1m1s\u001b[0m 3ms/step - loss: 0.2453 - val_loss: 0.1862\n",
            "Epoch 86/100\n",
            "\u001b[1m112/112\u001b[0m \u001b[32m━━━━━━━━━━━━━━━━━━━━\u001b[0m\u001b[37m\u001b[0m \u001b[1m1s\u001b[0m 3ms/step - loss: 0.2326 - val_loss: 0.1875\n",
            "Epoch 87/100\n",
            "\u001b[1m112/112\u001b[0m \u001b[32m━━━━━━━━━━━━━━━━━━━━\u001b[0m\u001b[37m\u001b[0m \u001b[1m1s\u001b[0m 3ms/step - loss: 0.2685 - val_loss: 0.1890\n",
            "Epoch 88/100\n",
            "\u001b[1m112/112\u001b[0m \u001b[32m━━━━━━━━━━━━━━━━━━━━\u001b[0m\u001b[37m\u001b[0m \u001b[1m1s\u001b[0m 3ms/step - loss: 0.2774 - val_loss: 0.1886\n",
            "Epoch 89/100\n",
            "\u001b[1m112/112\u001b[0m \u001b[32m━━━━━━━━━━━━━━━━━━━━\u001b[0m\u001b[37m\u001b[0m \u001b[1m1s\u001b[0m 4ms/step - loss: 0.2665 - val_loss: 0.1891\n",
            "Epoch 90/100\n",
            "\u001b[1m112/112\u001b[0m \u001b[32m━━━━━━━━━━━━━━━━━━━━\u001b[0m\u001b[37m\u001b[0m \u001b[1m1s\u001b[0m 3ms/step - loss: 0.2643 - val_loss: 0.1880\n",
            "Epoch 91/100\n",
            "\u001b[1m112/112\u001b[0m \u001b[32m━━━━━━━━━━━━━━━━━━━━\u001b[0m\u001b[37m\u001b[0m \u001b[1m1s\u001b[0m 3ms/step - loss: 0.2510 - val_loss: 0.1889\n",
            "Epoch 92/100\n",
            "\u001b[1m112/112\u001b[0m \u001b[32m━━━━━━━━━━━━━━━━━━━━\u001b[0m\u001b[37m\u001b[0m \u001b[1m0s\u001b[0m 3ms/step - loss: 0.2976 - val_loss: 0.1879\n",
            "Epoch 93/100\n",
            "\u001b[1m112/112\u001b[0m \u001b[32m━━━━━━━━━━━━━━━━━━━━\u001b[0m\u001b[37m\u001b[0m \u001b[1m0s\u001b[0m 3ms/step - loss: 0.2319 - val_loss: 0.1888\n",
            "Epoch 94/100\n",
            "\u001b[1m112/112\u001b[0m \u001b[32m━━━━━━━━━━━━━━━━━━━━\u001b[0m\u001b[37m\u001b[0m \u001b[1m0s\u001b[0m 3ms/step - loss: 0.2696 - val_loss: 0.1881\n",
            "Epoch 95/100\n",
            "\u001b[1m112/112\u001b[0m \u001b[32m━━━━━━━━━━━━━━━━━━━━\u001b[0m\u001b[37m\u001b[0m \u001b[1m1s\u001b[0m 3ms/step - loss: 0.2572 - val_loss: 0.1867\n",
            "Epoch 96/100\n",
            "\u001b[1m112/112\u001b[0m \u001b[32m━━━━━━━━━━━━━━━━━━━━\u001b[0m\u001b[37m\u001b[0m \u001b[1m1s\u001b[0m 6ms/step - loss: 0.2311 - val_loss: 0.1870\n",
            "Epoch 97/100\n",
            "\u001b[1m112/112\u001b[0m \u001b[32m━━━━━━━━━━━━━━━━━━━━\u001b[0m\u001b[37m\u001b[0m \u001b[1m1s\u001b[0m 6ms/step - loss: 0.2735 - val_loss: 0.1869\n",
            "Epoch 98/100\n",
            "\u001b[1m112/112\u001b[0m \u001b[32m━━━━━━━━━━━━━━━━━━━━\u001b[0m\u001b[37m\u001b[0m \u001b[1m1s\u001b[0m 3ms/step - loss: 0.2517 - val_loss: 0.1869\n",
            "Epoch 99/100\n",
            "\u001b[1m112/112\u001b[0m \u001b[32m━━━━━━━━━━━━━━━━━━━━\u001b[0m\u001b[37m\u001b[0m \u001b[1m0s\u001b[0m 3ms/step - loss: 0.2492 - val_loss: 0.1867\n",
            "Epoch 100/100\n",
            "\u001b[1m112/112\u001b[0m \u001b[32m━━━━━━━━━━━━━━━━━━━━\u001b[0m\u001b[37m\u001b[0m \u001b[1m1s\u001b[0m 3ms/step - loss: 0.2359 - val_loss: 0.1861\n"
          ]
        }
      ]
    },
    {
      "cell_type": "code",
      "source": [
        "# Plot training history\n",
        "plt.plot(history.history['loss'], label='Training Loss')\n",
        "plt.plot(history.history['val_loss'], label='Validation Loss')\n",
        "plt.title('Autoencoder Training History')\n",
        "plt.ylabel('Loss')\n",
        "plt.xlabel('Epoch')\n",
        "plt.legend()\n",
        "plt.show()"
      ],
      "metadata": {
        "colab": {
          "base_uri": "https://localhost:8080/",
          "height": 472
        },
        "id": "n1jpNeFL_nz-",
        "outputId": "eb41103d-888e-4979-9e38-bdbdadbd14b1"
      },
      "execution_count": 38,
      "outputs": [
        {
          "output_type": "display_data",
          "data": {
            "text/plain": [
              "<Figure size 640x480 with 1 Axes>"
            ],
            "image/png": "[encoded data removed]"
          },
          "metadata": {}
        }
      ]
    },
    {
      "cell_type": "code",
      "source": [
        "# Create encoder model for feature extraction\n",
        "encoder_model = keras.Model(inputs=input_layer, outputs=encoder)\n",
        "\n",
        "# Encode all features\n",
        "encoded_features = encoder_model.predict(scaled_features)"
      ],
      "metadata": {
        "colab": {
          "base_uri": "https://localhost:8080/"
        },
        "id": "Q5UfTk4j_uml",
        "outputId": "6e80de8f-72e9-426f-c5af-5a2b68678435"
      },
      "execution_count": 39,
      "outputs": [
        {
          "output_type": "stream",
          "name": "stdout",
          "text": [
            "\u001b[1m70/70\u001b[0m \u001b[32m━━━━━━━━━━━━━━━━━━━━\u001b[0m\u001b[37m\u001b[0m \u001b[1m0s\u001b[0m 2ms/step\n"
          ]
        }
      ]
    },
    {
      "cell_type": "code",
      "source": [
        "# Replace original features with encoded features in the data structure\n",
        "encoded_data = {}\n",
        "feature_index = 0\n",
        "for user_id, user_data in data.items():\n",
        "    encoded_data[user_id] = {\n",
        "        \"features\": [],\n",
        "        \"file_names\": user_data[\"file_names\"]\n",
        "    }\n",
        "\n",
        "    for i in range(len(user_data[\"features\"])):\n",
        "        encoded_data[user_id][\"features\"].append(encoded_features[feature_index].tolist())\n",
        "        feature_index += 1\n",
        "# Now use the encoded_data for encryption instead of the original data\n",
        "print(\"Sample encoded feature:\", encoded_data[\"1\"][\"features\"][0])\n",
        "print(\"Original dimension: 5, Encoded dimension:\", len(encoded_data[\"1\"][\"features\"][0]))"
      ],
      "metadata": {
        "colab": {
          "base_uri": "https://localhost:8080/"
        },
        "id": "ZG28-W2E_0LF",
        "outputId": "7876f6d1-3136-4c3b-f922-aa566e54d707"
      },
      "execution_count": 51,
      "outputs": [
        {
          "output_type": "stream",
          "name": "stdout",
          "text": [
            "Sample encoded feature: [0.0737568810582161, 4.938323974609375, 0.44936439394950867]\n",
            "Original dimension: 5, Encoded dimension: 3\n"
          ]
        }
      ]
    },
    {
      "cell_type": "code",
      "source": [
        "# Function to create CKKS context\n",
        "def create_ckks_context():\n",
        "    context = ts.context(\n",
        "        ts.SCHEME_TYPE.CKKS,\n",
        "        poly_modulus_degree=8192,\n",
        "        coeff_mod_bit_sizes=[60, 40, 40, 60]\n",
        "    )\n",
        "    context.generate_galois_keys()\n",
        "    context.global_scale = 2 ** 40\n",
        "    return context\n",
        "\n",
        "# Create encryption context\n",
        "context = create_ckks_context()\n",
        "public_context = context.copy()\n",
        "public_context.make_context_public()"
      ],
      "metadata": {
        "id": "CGZt7O7B_5SN"
      },
      "execution_count": 52,
      "outputs": []
    },
    {
      "cell_type": "code",
      "source": [
        "# Encrypt all encoded feature vectors and store them\n",
        "encrypted_database = {}\n",
        "\n",
        "for user_id, user_data in encoded_data.items():\n",
        "    encrypted_features = []\n",
        "    for vec in user_data[\"features\"]:\n",
        "        enc_vec = ts.ckks_vector(public_context, vec)\n",
        "        encrypted_features.append(enc_vec.serialize())\n",
        "    encrypted_database[user_id] = encrypted_features"
      ],
      "metadata": {
        "id": "2tLRHw3pAEYd"
      },
      "execution_count": 53,
      "outputs": []
    },
    {
      "cell_type": "code",
      "source": [
        "# EUCLIDEAN DISTANCE function for encrypted vectors\n",
        "def euclidean_distance_encrypted(v1, v2, context):\n",
        "    # Calculate squared Euclidean distance: ||v1 - v2||² = v1·v1 + v2·v2 - 2*v1·v2\n",
        "    dot_v1 = v1.dot(v1)\n",
        "    dot_v2 = v2.dot(v2)\n",
        "    dot_v1_v2 = v1.dot(v2)\n",
        "\n",
        "    # squared_distance = dot_v1 + dot_v2 - 2*dot_v1_v2\n",
        "    squared_distance = dot_v1 + dot_v2 - dot_v1_v2 - dot_v1_v2\n",
        "\n",
        "    # We return squared distance (faster) or can compute actual distance\n",
        "    return squared_distance"
      ],
      "metadata": {
        "id": "qlO3RGFoAK8V"
      },
      "execution_count": 54,
      "outputs": []
    },
    {
      "cell_type": "code",
      "source": [
        "# Test with a query from user 1 (first feature)\n",
        "query_vec = encoded_data[\"50\"][\"features\"][0]\n",
        "enc_query = ts.ckks_vector(context, query_vec)\n",
        "\n",
        "scores = []\n",
        "\n",
        "for user_id, encrypted_feature_list in encrypted_database.items():\n",
        "    for enc_feat_serialized in encrypted_feature_list:\n",
        "        try:\n",
        "            enc_feat = ts.ckks_vector_from(context, enc_feat_serialized)\n",
        "\n",
        "            # Calculate squared Euclidean distance\n",
        "            squared_dist = euclidean_distance_encrypted(enc_query, enc_feat, context)\n",
        "            dist_value = squared_dist.decrypt()[0]\n",
        "\n",
        "            # Convert distance to similarity (lower distance = higher similarity)\n",
        "            # Using exponential decay: similarity = exp(-distance)\n",
        "            similarity = np.exp(-dist_value)\n",
        "\n",
        "            scores.append((user_id, similarity, dist_value))\n",
        "        except Exception as e:\n",
        "            print(f\"Error comparing with User {user_id}: {e}\")"
      ],
      "metadata": {
        "id": "ka4AQQXaARU-"
      },
      "execution_count": 67,
      "outputs": []
    },
    {
      "cell_type": "code",
      "source": [
        "# Sort by similarity (descending) and distance (ascending)\n",
        "scores_similarity = sorted(scores, key=lambda x: x[1], reverse=True)\n",
        "scores_distance = sorted(scores, key=lambda x: x[2])\n",
        "\n",
        "print(\"Top 5 Matches by Similarity:\")\n",
        "for uid, sim, dist in scores_similarity[:5]:\n",
        "    print(f\"User {uid} → Similarity: {sim:.4f}, Distance: {dist:.4f}\")\n",
        "\n",
        "print(\"\\nTop 5 Matches by Distance:\")\n",
        "for uid, sim, dist in scores_distance[:5]:\n",
        "    print(f\"User {uid} → Distance: {dist:.4f}, Similarity: {sim:.4f}\")"
      ],
      "metadata": {
        "colab": {
          "base_uri": "https://localhost:8080/"
        },
        "id": "caWTlHjDAcX9",
        "outputId": "e745dc81-8bee-4b13-d3ad-e4128657a890"
      },
      "execution_count": 68,
      "outputs": [
        {
          "output_type": "stream",
          "name": "stdout",
          "text": [
            "Top 5 Matches by Similarity:\n",
            "User 50 → Similarity: 1.0000, Distance: 0.0000\n",
            "User 50 → Similarity: 0.9978, Distance: 0.0022\n",
            "User 50 → Similarity: 0.9978, Distance: 0.0022\n",
            "User 19 → Similarity: 0.9693, Distance: 0.0312\n",
            "User 113 → Similarity: 0.9595, Distance: 0.0414\n",
            "\n",
            "Top 5 Matches by Distance:\n",
            "User 50 → Distance: 0.0000, Similarity: 1.0000\n",
            "User 50 → Distance: 0.0022, Similarity: 0.9978\n",
            "User 50 → Distance: 0.0022, Similarity: 0.9978\n",
            "User 19 → Distance: 0.0312, Similarity: 0.9693\n",
            "User 113 → Distance: 0.0414, Similarity: 0.9595\n"
          ]
        }
      ]
    },
    {
      "cell_type": "code",
      "source": [
        "# Apply threshold based on similarity score (higher is better)\n",
        "similarity_threshold = 0.97 # Adjust this based on your data (0-1 range)\n",
        "best_match = scores_similarity[0]\n",
        "\n",
        "if best_match[1] >= similarity_threshold:\n",
        "    print(f\"\\nAuthenticated as User {best_match[0]} with similarity score {best_match[1]:.4f}\")\n",
        "else:\n",
        "    print(f\"\\nAuthentication failed. Best match is User {best_match[0]} with similarity score {best_match[1]:.4f}\")"
      ],
      "metadata": {
        "colab": {
          "base_uri": "https://localhost:8080/"
        },
        "id": "u1OGObTjAllt",
        "outputId": "9fa69fe3-65c6-472f-ba0a-769b47b38932"
      },
      "execution_count": 69,
      "outputs": [
        {
          "output_type": "stream",
          "name": "stdout",
          "text": [
            "\n",
            "Authenticated as User 50 with similarity score 1.0000\n"
          ]
        }
      ]
    },
    {
      "cell_type": "code",
      "source": [
        "\"\"\"# Test with a fake vector\n",
        "fake_vec = np.random.rand(encoding_dim).tolist()\n",
        "enc_fake_query = ts.ckks_vector(context, fake_vec)\n",
        "\n",
        "fake_scores = []\n",
        "for user_id, enc_feat_list in encrypted_database.items():\n",
        "    for enc_feat_serialized in enc_feat_list:\n",
        "        enc_feat = ts.ckks_vector_from(context, enc_feat_serialized)\n",
        "        try:\n",
        "            squared_dist = euclidean_distance_encrypted(enc_fake_query, enc_feat, context)\n",
        "            dist_value = squared_dist.decrypt()[0]\n",
        "            similarity = np.exp(-dist_value)  # Convert distance to similarity (0-1)\n",
        "            fake_scores.append((user_id, similarity, dist_value))\n",
        "        except Exception as e:\n",
        "            print(f\"Error comparing with User {user_id}: {e}\")\n",
        "\n",
        "fake_scores_similarity = sorted(fake_scores, key=lambda x: x[1], reverse=True)  # Sort by similarity\n",
        "\n",
        "print(\"\\nTop 5 Matches for Fake Vector (by Similarity):\")\n",
        "for uid, sim, dist in fake_scores_similarity[:5]:\n",
        "    print(f\"User {uid} → Similarity: {sim:.4f}, Distance: {dist:.4f}\")\n",
        "\n",
        "if fake_scores_similarity[0][1] >= similarity_threshold:\n",
        "    print(f\"\\nFAKE vector accepted (this should not happen). Matched User {fake_scores_similarity[0][0]} with similarity {fake_scores_similarity[0][1]:.4f}\")\n",
        "else:\n",
        "    print(f\"\\nFAKE vector correctly rejected. Highest similarity: {fake_scores_similarity[0][1]:.4f}\")\n",
        "\n",
        "\"\"\""
      ],
      "metadata": {
        "colab": {
          "base_uri": "https://localhost:8080/",
          "height": 123
        },
        "id": "zMF3UBZwArFV",
        "outputId": "d73b4f92-1875-4062-89c1-3d83516ee999"
      },
      "execution_count": null,
      "outputs": [
        {
          "output_type": "execute_result",
          "data": {
            "text/plain": [
              "'# Test with a fake vector\\nfake_vec = np.random.rand(encoding_dim).tolist()\\nenc_fake_query = ts.ckks_vector(context, fake_vec)\\n\\nfake_scores = []\\nfor user_id, enc_feat_list in encrypted_database.items():\\n    for enc_feat_serialized in enc_feat_list:\\n        enc_feat = ts.ckks_vector_from(context, enc_feat_serialized)\\n        try:\\n            squared_dist = euclidean_distance_encrypted(enc_fake_query, enc_feat, context)\\n            dist_value = squared_dist.decrypt()[0]\\n            similarity = np.exp(-dist_value)  # Convert distance to similarity (0-1)\\n            fake_scores.append((user_id, similarity, dist_value))\\n        except Exception as e:\\n            print(f\"Error comparing with User {user_id}: {e}\")\\n\\nfake_scores_similarity = sorted(fake_scores, key=lambda x: x[1], reverse=True)  # Sort by similarity\\n\\nprint(\"\\nTop 5 Matches for Fake Vector (by Similarity):\")\\nfor uid, sim, dist in fake_scores_similarity[:5]:\\n    print(f\"User {uid} → Similarity: {sim:.4f}, Distance: {dist:.4f}\")\\n\\nif fake_scores_similarity[0][1] >= similarity_threshold:\\n    print(f\"\\nFAKE vector accepted (this should not happen). Matched User {fake_scores_similarity[0][0]} with similarity {fake_scores_similarity[0][1]:.4f}\")\\nelse:\\n    print(f\"\\nFAKE vector correctly rejected. Highest similarity: {fake_scores_similarity[0][1]:.4f}\")\\n\\n'"
            ],
            "application/vnd.google.colaboratory.intrinsic+json": {
              "type": "string"
            }
          },
          "metadata": {},
          "execution_count": 17
        }
      ]
    },
    {
      "cell_type": "code",
      "source": [
        "# Analyze similarity distribution\n",
        "genuine_similarities = [sim for uid, sim, dist in scores if uid == \"50\"]\n",
        "imposter_similarities = [sim for uid, sim, dist in scores if uid != \"50\"]\n",
        "\n",
        "print(f\"\\nSimilarity Analysis:\")\n",
        "print(f\"Genuine user mean similarity: {np.mean(genuine_similarities):.4f}\")\n",
        "print(f\"Imposters mean similarity: {np.mean(imposter_similarities):.4f}\")\n",
        "print(f\"Similarity separation: {np.mean(genuine_similarities) - np.mean(imposter_similarities):.4f}\")"
      ],
      "metadata": {
        "colab": {
          "base_uri": "https://localhost:8080/"
        },
        "id": "4dm218A-Ax1l",
        "outputId": "817557c8-9759-4505-b370-276c0fc905cc"
      },
      "execution_count": 70,
      "outputs": [
        {
          "output_type": "stream",
          "name": "stdout",
          "text": [
            "\n",
            "Similarity Analysis:\n",
            "Genuine user mean similarity: 0.5514\n",
            "Imposters mean similarity: 0.1694\n",
            "Similarity separation: 0.3820\n"
          ]
        }
      ]
    },
    {
      "cell_type": "code",
      "source": [
        "# Plot similarity distribution\n",
        "plt.figure(figsize=(10, 6))\n",
        "plt.hist(genuine_similarities, alpha=0.7, label='Genuine User', bins=20, color='green')\n",
        "plt.hist(imposter_similarities, alpha=0.7, label='Imposters', bins=20, color='red')\n",
        "plt.axvline(x=similarity_threshold, color='black', linestyle='--', label=f'Threshold ({similarity_threshold})')\n",
        "plt.xlabel('Similarity Score')\n",
        "plt.ylabel('Frequency')\n",
        "plt.title('Similarity Score Distribution')\n",
        "plt.legend()\n",
        "plt.grid(True)\n",
        "plt.show()"
      ],
      "metadata": {
        "colab": {
          "base_uri": "https://localhost:8080/",
          "height": 564
        },
        "id": "Pz6oELfgEYgW",
        "outputId": "dbf39a08-315a-4376-ef1b-94c88c7fe809"
      },
      "execution_count": 71,
      "outputs": [
        {
          "output_type": "display_data",
          "data": {
            "text/plain": [
              "<Figure size 1000x600 with 1 Axes>"
            ],
            "image/png": "[encoded data removed]"
          },
          "metadata": {}
        }
      ]
    },
    {
      "cell_type": "code",
      "source": [
        "# Calculate accuracy metrics\n",
        "true_positives = sum(1 for uid, sim, dist in scores if uid == \"50\" and sim >= similarity_threshold)\n",
        "true_negatives = sum(1 for uid, sim, dist in scores if uid != \"50\" and sim < similarity_threshold)\n",
        "false_positives = sum(1 for uid, sim, dist in scores if uid != \"50\" and sim >= similarity_threshold)\n",
        "false_negatives = sum(1 for uid, sim, dist in scores if uid == \"50\" and sim < similarity_threshold)\n",
        "\n",
        "accuracy = (true_positives + true_negatives) / len(scores)\n",
        "precision = true_positives / (true_positives + false_positives) if (true_positives + false_positives) > 0 else 0\n",
        "recall = true_positives / (true_positives + false_negatives) if (true_positives + false_negatives) > 0 else 0\n",
        "\n",
        "print(f\"\\nPerformance Metrics:\")\n",
        "print(f\"Accuracy: {accuracy:.4f}\")\n",
        "print(f\"Precision: {precision:.4f}\")\n",
        "print(f\"Recall: {recall:.4f}\")\n",
        "print(f\"True Positives: {true_positives}\")\n",
        "print(f\"True Negatives: {true_negatives}\")\n",
        "print(f\"False Positives: {false_positives}\")\n",
        "print(f\"False Negatives: {false_negatives}\")"
      ],
      "metadata": {
        "colab": {
          "base_uri": "https://localhost:8080/"
        },
        "id": "HYzkQJJhEeU-",
        "outputId": "fca81112-99bd-40f2-831d-cc893a9ac436"
      },
      "execution_count": 72,
      "outputs": [
        {
          "output_type": "stream",
          "name": "stdout",
          "text": [
            "\n",
            "Performance Metrics:\n",
            "Accuracy: 0.9969\n",
            "Precision: 1.0000\n",
            "Recall: 0.3000\n",
            "True Positives: 3\n",
            "True Negatives: 2220\n",
            "False Positives: 0\n",
            "False Negatives: 7\n"
          ]
        }
      ]
    },
    {
      "cell_type": "code",
      "source": [
        "import matplotlib.pyplot as plt\n",
        "import numpy as np\n",
        "\n",
        "# Your calculated values\n",
        "fpr = 0.0\n",
        "tpr = 0.1 # This is the Recall\n",
        "\n",
        "# Create the plot\n",
        "plt.figure(figsize=(8, 6))\n",
        "\n",
        "# Plot the random guess line\n",
        "plt.plot([0, 1], [0, 1], 'k--', label='Random Guess (AUC = 0.5)', lw=2)\n",
        "\n",
        "# Plot the single point for your model\n",
        "plt.scatter(fpr, tpr, color='red', s=100, zorder=3, label=f'Your Model (FPR={fpr}, TPR={tpr})')\n",
        "\n",
        "# Plot a line representing a \"perfect\" classifer\n",
        "plt.plot([0, 0, 1], [0, 1, 1], 'g-.', label='Perfect Classifier (AUC = 1.0)', lw=1)\n",
        "\n",
        "# Format the plot\n",
        "plt.xlim([-0.05, 1.05])\n",
        "plt.ylim([-0.05, 1.05])\n",
        "plt.xlabel('False Positive Rate', fontsize=12)\n",
        "plt.ylabel('True Positive Rate (Recall)', fontsize=12)\n",
        "plt.title('ROC Plot with Your Model\\'s Single Operating Point', fontsize=14)\n",
        "plt.legend(loc='lower right')\n",
        "plt.grid(True, alpha=0.3)\n",
        "plt.show()"
      ],
      "metadata": {
        "id": "XQjxg43l4KSG",
        "colab": {
          "base_uri": "https://localhost:8080/",
          "height": 569
        },
        "outputId": "8337bfe3-0eff-4e62-b22e-e8786bfe9c61"
      },
      "execution_count": 73,
      "outputs": [
        {
          "output_type": "display_data",
          "data": {
            "text/plain": [
              "<Figure size 800x600 with 1 Axes>"
            ],
            "image/png": "[encoded data removed]"
          },
          "metadata": {}
        }
      ]
    },
    {
      "cell_type": "code",
      "source": [],
      "metadata": {
        "id": "4VV0J7ze3PAk"
      },
      "execution_count": null,
      "outputs": []
    }
  ]
}